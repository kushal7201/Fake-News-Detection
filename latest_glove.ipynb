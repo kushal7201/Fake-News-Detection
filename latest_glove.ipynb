{
  "cells": [
    {
      "cell_type": "code",
      "execution_count": 2,
      "metadata": {},
      "outputs": [
        {
          "name": "stdout",
          "output_type": "stream",
          "text": [
            "TensorFlow version: 2.17.0\n"
          ]
        }
      ],
      "source": [
        "import tensorflow as tf\n",
        "print(\"TensorFlow version:\", tf.__version__)"
      ]
    },
    {
      "cell_type": "code",
      "execution_count": 3,
      "metadata": {},
      "outputs": [
        {
          "name": "stdout",
          "output_type": "stream",
          "text": [
            "Num GPUs Available:  0\n"
          ]
        }
      ],
      "source": [
        "print(\"Num GPUs Available: \", len(tf.config.list_physical_devices('GPU')))"
      ]
    },
    {
      "cell_type": "code",
      "execution_count": 4,
      "metadata": {
        "id": "E02sBfQBb1k6"
      },
      "outputs": [
        {
          "name": "stdout",
          "output_type": "stream",
          "text": [
            "Symbolic links are not supported without admin privileges on Windows. Skipping symlink creation.\n",
            "Downloading glove50d, 70948798 bytes compressed\n",
            "[==================================================] 70948798 bytes downloaded\n",
            "Downloaded and uncompressed: glove50d\n",
            "Downloading fake-news-challenge, 5340415 bytes compressed\n",
            "[==================================================] 5340415 bytes downloaded\n",
            "Downloaded and uncompressed: fake-news-challenge\n",
            "Data source import complete.\n"
          ]
        }
      ],
      "source": [
        "import os\n",
        "import sys\n",
        "import platform\n",
        "from tempfile import NamedTemporaryFile\n",
        "from urllib.request import urlopen\n",
        "from urllib.parse import unquote, urlparse\n",
        "from urllib.error import HTTPError\n",
        "from zipfile import ZipFile\n",
        "import tarfile\n",
        "import shutil\n",
        "\n",
        "CHUNK_SIZE = 40960\n",
        "DATA_SOURCE_MAPPING = 'glove50d:https%3A%2F%2Fstorage.googleapis.com%2Fkaggle-data-sets%2F911310%2F1544853%2Fbundle%2Farchive.zip%3FX-Goog-Algorithm%3DGOOG4-RSA-SHA256%26X-Goog-Credential%3Dgcp-kaggle-com%2540kaggle-161607.iam.gserviceaccount.com%252F20240907%252Fauto%252Fstorage%252Fgoog4_request%26X-Goog-Date%3D20240907T170146Z%26X-Goog-Expires%3D259200%26X-Goog-SignedHeaders%3Dhost%26X-Goog-Signature%3D24743ef0d8c855b54c7ca73108048c6094cd8f39b8edf2a4663f0b50ddfe5e4a97bc672766ff2353fa1fe61a1274661744316ae8674ae4bbd9c5aaf49b00f558658f39c6223649cd8edaa2a90b53207063cc40167c86f66875116ffcc658615cd06f4d8459ccc993e2871e7995ada0b9a9a7fa5b90b8050c39ed043786df1e7777f52b323e74e27c1415853dab951200f712c6d9b8f771b3e7bb44b6c068ed32bf6ca0b11201995f1723c51ff1ffdf312c15b761bb04868171f85c36d0d13a955782a93741591faf59a98e682690a600934a54294b7e2dfd85e8dac9240ca0e9850ea6af80eacb76c52f35e4e83ae0324ed2ed836148da54137a41c350837fd7,fake-news-challenge:https%3A%2F%2Fstorage.googleapis.com%2Fkaggle-data-sets%2F1249857%2F2084561%2Fbundle%2Farchive.zip%3FX-Goog-Algorithm%3DGOOG4-RSA-SHA256%26X-Goog-Credential%3Dgcp-kaggle-com%2540kaggle-161607.iam.gserviceaccount.com%252F20240907%252Fauto%252Fstorage%252Fgoog4_request%26X-Goog-Date%3D20240907T170146Z%26X-Goog-Expires%3D259200%26X-Goog-SignedHeaders%3Dhost%26X-Goog-Signature%3D08fe71600e5dabff5bfaebb31f72e5bd4b7b03a9083390fc3b304dc7d90c70422b7440a46a4a0457b9ec725f0d749e2d3483a6f59093e61379227a28d9ebbe41af8f46d7497fa5dd9de172becdcff0b2611a0e53dc0d73eaa9f7382ae60468a7ac5d0b1208702b33b99cbc96ac0839fc32db638d4fd3ef2df44faf90e9a6cc8b5580430997e516fb0d50fbd5e6a2982226861168e9dc36938b6300383531481e15dfdd2ba7e8112fdabfd12a7bac9037d76a0708fd3a18485b286bce1e4c2bb2149026df4c970fb2eb7696909ae5edd9d2aa231ad68f189ea68475e52554ef9192eecfbd8fa196bda6385017c18ca685d7486ff0c42cd63ec9308a0c41bad439'\n",
        "\n",
        "KAGGLE_INPUT_PATH = '/kaggle/input'\n",
        "KAGGLE_WORKING_PATH = '/kaggle/working'\n",
        "KAGGLE_SYMLINK = 'kaggle'\n",
        "\n",
        "# Removing any pre-existing mount points\n",
        "shutil.rmtree('/kaggle/input', ignore_errors=True)\n",
        "os.makedirs(KAGGLE_INPUT_PATH, 0o777, exist_ok=True)\n",
        "os.makedirs(KAGGLE_WORKING_PATH, 0o777, exist_ok=True)\n",
        "\n",
        "# Platform-specific handling for symbolic links\n",
        "if platform.system() == 'Windows':\n",
        "    print(\"Symbolic links are not supported without admin privileges on Windows. Skipping symlink creation.\")\n",
        "else:\n",
        "    try:\n",
        "        os.symlink(KAGGLE_INPUT_PATH, os.path.join(\"..\", 'input'), target_is_directory=True)\n",
        "    except FileExistsError:\n",
        "        pass\n",
        "    try:\n",
        "        os.symlink(KAGGLE_WORKING_PATH, os.path.join(\"..\", 'working'), target_is_directory=True)\n",
        "    except FileExistsError:\n",
        "        pass\n",
        "\n",
        "# Download and extract data\n",
        "for data_source_mapping in DATA_SOURCE_MAPPING.split(','):\n",
        "    directory, download_url_encoded = data_source_mapping.split(':')\n",
        "    download_url = unquote(download_url_encoded)\n",
        "    filename = urlparse(download_url).path\n",
        "    destination_path = os.path.join(KAGGLE_INPUT_PATH, directory)\n",
        "    \n",
        "    try:\n",
        "        with urlopen(download_url) as fileres, NamedTemporaryFile() as tfile:\n",
        "            total_length = fileres.headers['content-length']\n",
        "            print(f'Downloading {directory}, {total_length} bytes compressed')\n",
        "            dl = 0\n",
        "            data = fileres.read(CHUNK_SIZE)\n",
        "            \n",
        "            while len(data) > 0:\n",
        "                dl += len(data)\n",
        "                tfile.write(data)\n",
        "                done = int(50 * dl / int(total_length))\n",
        "                sys.stdout.write(f\"\\r[{'=' * done}{' ' * (50 - done)}] {dl} bytes downloaded\")\n",
        "                sys.stdout.flush()\n",
        "                data = fileres.read(CHUNK_SIZE)\n",
        "                \n",
        "            # Extract the downloaded archive\n",
        "            if filename.endswith('.zip'):\n",
        "                with ZipFile(tfile) as zfile:\n",
        "                    zfile.extractall(destination_path)\n",
        "            else:\n",
        "                with tarfile.open(tfile.name) as tarfile:\n",
        "                    tarfile.extractall(destination_path)\n",
        "                    \n",
        "            print(f'\\nDownloaded and uncompressed: {directory}')\n",
        "    \n",
        "    except HTTPError as e:\n",
        "        print(f'Failed to load (likely expired) {download_url} to path {destination_path}')\n",
        "        continue\n",
        "    except OSError as e:\n",
        "        print(f'Failed to load {download_url} to path {destination_path}')\n",
        "        continue\n",
        "\n",
        "print('Data source import complete.')\n"
      ]
    },
    {
      "cell_type": "markdown",
      "metadata": {
        "id": "K_B7jvIjb1lE"
      },
      "source": [
        "# Problem Statement"
      ]
    },
    {
      "cell_type": "markdown",
      "metadata": {
        "id": "-ihEQUwsb1lH"
      },
      "source": [
        "1. We are given a dataset consisting of two csv files train_bodies.csv which contains the set of news articles bodies,while train-stances.csv resembles the articles for each of these bodies being identified using the body id.\n",
        "\n",
        "2. After training from these samples we need to detect whether the given headline agrees,disagrees,discusses,unrelated with the body id\n"
      ]
    },
    {
      "cell_type": "markdown",
      "metadata": {
        "id": "IK5fNhcdb1lJ"
      },
      "source": [
        "## Importing Libraries"
      ]
    },
    {
      "cell_type": "code",
      "execution_count": 5,
      "metadata": {
        "id": "2wArZWkJb1lK",
        "trusted": true
      },
      "outputs": [],
      "source": [
        "import pandas as pd\n",
        "import numpy as np\n",
        "import os\n",
        "import matplotlib.pyplot as plt\n",
        "\n",
        "from tensorflow.keras.preprocessing.sequence import pad_sequences\n",
        "from tensorflow.keras.preprocessing.text import Tokenizer, one_hot\n",
        "from tensorflow.keras.utils import to_categorical, plot_model\n",
        "\n",
        "from tensorflow.keras import Model, Sequential\n",
        "from tensorflow.keras.layers import LSTM, Embedding, Dropout, Activation, Reshape, Dense, GRU, Add, Flatten, concatenate, Bidirectional, Input\n",
        "\n",
        "from tensorflow.keras.layers import LSTM, Embedding, Dropout, Activation, Reshape, Dense, GRU, Add, Flatten, concatenate, Bidirectional\n",
        "\n",
        "from tensorflow.keras.callbacks import ModelCheckpoint\n"
      ]
    },
    {
      "cell_type": "markdown",
      "metadata": {
        "id": "fNd8m70cb1lL"
      },
      "source": [
        "# Dataset understanding\n",
        "The train_bodies contain the entries for the body id and associated article Body\n",
        "The train_stances contain the entries for the headlines associated with the particular body id and its labelled stance\n",
        "One body present in train_bodies can have multiple associated headlines present in train_stances and it's corresponding stance label\n",
        "1683 :- Number of article Body present\n",
        "49972 number of total headlines present for the 1683 different article body"
      ]
    },
    {
      "cell_type": "markdown",
      "metadata": {
        "id": "XYm3QMfXb1lM"
      },
      "source": [
        "## Dataset Preparation\n",
        "\n",
        "**train_bodies.csv** contains body id and article body for training  \n",
        "**train_stances.csv** contains headlines corresponding to body id and associated labelled stance with it\n"
      ]
    },
    {
      "cell_type": "code",
      "execution_count": 8,
      "metadata": {
        "id": "9eLPtsg0b1lO",
        "scrolled": true,
        "trusted": true
      },
      "outputs": [],
      "source": [
        "DATASET_PATH = \"./fake/\"\n",
        "\n",
        "train_bodies = pd.read_csv(os.path.join(DATASET_PATH,'train_bodies.csv'))\n",
        "# train_bodies.head()\n",
        "train_stance = pd.read_csv(os.path.join(DATASET_PATH,'train_stances.csv'))"
      ]
    },
    {
      "cell_type": "code",
      "execution_count": 10,
      "metadata": {},
      "outputs": [],
      "source": [
        "# !pip install tqdm"
      ]
    },
    {
      "cell_type": "markdown",
      "metadata": {
        "id": "oPwSGCfRb1lP"
      },
      "source": [
        "# Combining the CSV\n",
        "\n",
        "I am preparing a final csv in each row will correspond to a unique entry\n",
        "i.e each row will correspond to a unique combination of headline,bodyid and article body\n",
        "\n",
        "The above is needed for making simplicity in further data preparation steps we need to execute\n"
      ]
    },
    {
      "cell_type": "code",
      "execution_count": 37,
      "metadata": {},
      "outputs": [
        {
          "name": "stdout",
          "output_type": "stream",
          "text": [
            "Requirement already satisfied: tqdm in c:\\users\\k7adi\\myenv\\lib\\site-packages (4.66.5)\n",
            "Requirement already satisfied: colorama in c:\\users\\k7adi\\myenv\\lib\\site-packages (from tqdm) (0.4.6)\n"
          ]
        },
        {
          "name": "stderr",
          "output_type": "stream",
          "text": [
            "\n",
            "[notice] A new release of pip is available: 23.0.1 -> 24.2\n",
            "[notice] To update, run: C:\\Users\\k7adi\\myenv\\Scripts\\python.exe -m pip install --upgrade pip\n"
          ]
        },
        {
          "name": "stdout",
          "output_type": "stream",
          "text": [
            "Name: tqdm\n",
            "Version: 4.66.5\n",
            "Summary: Fast, Extensible Progress Meter\n",
            "Home-page: \n",
            "Author: \n",
            "Author-email: \n",
            "License: MPL-2.0 AND MIT\n",
            "Location: c:\\users\\k7adi\\myenv\\lib\\site-packages\n",
            "Requires: colorama\n",
            "Required-by: \n"
          ]
        }
      ],
      "source": [
        "# !pip install tqdm\n",
        "# !pip show tqdm\n",
        "# !pip install tqdm\n",
        "\n"
      ]
    },
    {
      "cell_type": "code",
      "execution_count": 11,
      "metadata": {},
      "outputs": [
        {
          "name": "stdout",
          "output_type": "stream",
          "text": [
            "g:\\PROJECTS\\MINI_PROJECT\\Github\\venv\\Scripts\\python.exe\n"
          ]
        }
      ],
      "source": [
        "import sys\n",
        "print(sys.executable)\n"
      ]
    },
    {
      "cell_type": "code",
      "execution_count": 12,
      "metadata": {
        "id": "xCUeX57gb1lQ",
        "trusted": true
      },
      "outputs": [
        {
          "name": "stdout",
          "output_type": "stream",
          "text": [
            "Processing row 0/12493\n",
            "Processing row 100/12493\n",
            "Processing row 200/12493\n",
            "Processing row 300/12493\n",
            "Processing row 400/12493\n",
            "Processing row 500/12493\n",
            "Processing row 600/12493\n",
            "Processing row 700/12493\n",
            "Processing row 800/12493\n",
            "Processing row 900/12493\n",
            "Processing row 1000/12493\n",
            "Processing row 1100/12493\n",
            "Processing row 1200/12493\n",
            "Processing row 1300/12493\n",
            "Processing row 1400/12493\n",
            "Processing row 1500/12493\n",
            "Processing row 1600/12493\n",
            "Processing row 1700/12493\n",
            "Processing row 1800/12493\n",
            "Processing row 1900/12493\n",
            "Processing row 2000/12493\n",
            "Processing row 2100/12493\n",
            "Processing row 2200/12493\n",
            "Processing row 2300/12493\n",
            "Processing row 2400/12493\n",
            "Processing row 2500/12493\n",
            "Processing row 2600/12493\n",
            "Processing row 2700/12493\n",
            "Processing row 2800/12493\n",
            "Processing row 2900/12493\n",
            "Processing row 3000/12493\n",
            "Processing row 3100/12493\n",
            "Processing row 3200/12493\n",
            "Processing row 3300/12493\n",
            "Processing row 3400/12493\n",
            "Processing row 3500/12493\n",
            "Processing row 3600/12493\n",
            "Processing row 3700/12493\n",
            "Processing row 3800/12493\n",
            "Processing row 3900/12493\n",
            "Processing row 4000/12493\n",
            "Processing row 4100/12493\n",
            "Processing row 4200/12493\n",
            "Processing row 4300/12493\n",
            "Processing row 4400/12493\n",
            "Processing row 4500/12493\n",
            "Processing row 4600/12493\n",
            "Processing row 4700/12493\n",
            "Processing row 4800/12493\n",
            "Processing row 4900/12493\n",
            "Processing row 5000/12493\n",
            "Processing row 5100/12493\n",
            "Processing row 5200/12493\n",
            "Processing row 5300/12493\n",
            "Processing row 5400/12493\n",
            "Processing row 5500/12493\n",
            "Processing row 5600/12493\n",
            "Processing row 5700/12493\n",
            "Processing row 5800/12493\n",
            "Processing row 5900/12493\n",
            "Processing row 6000/12493\n",
            "Processing row 6100/12493\n",
            "Processing row 6200/12493\n",
            "Processing row 6300/12493\n",
            "Processing row 6400/12493\n",
            "Processing row 6500/12493\n",
            "Processing row 6600/12493\n",
            "Processing row 6700/12493\n",
            "Processing row 6800/12493\n",
            "Processing row 6900/12493\n",
            "Processing row 7000/12493\n",
            "Processing row 7100/12493\n",
            "Processing row 7200/12493\n",
            "Processing row 7300/12493\n",
            "Processing row 7400/12493\n",
            "Processing row 7500/12493\n",
            "Processing row 7600/12493\n",
            "Processing row 7700/12493\n",
            "Processing row 7800/12493\n",
            "Processing row 7900/12493\n",
            "Processing row 8000/12493\n",
            "Processing row 8100/12493\n",
            "Processing row 8200/12493\n",
            "Processing row 8300/12493\n",
            "Processing row 8400/12493\n",
            "Processing row 8500/12493\n",
            "Processing row 8600/12493\n",
            "Processing row 8700/12493\n",
            "Processing row 8800/12493\n",
            "Processing row 8900/12493\n",
            "Processing row 9000/12493\n",
            "Processing row 9100/12493\n",
            "Processing row 9200/12493\n",
            "Processing row 9300/12493\n",
            "Processing row 9400/12493\n",
            "Processing row 9500/12493\n",
            "Processing row 9600/12493\n",
            "Processing row 9700/12493\n",
            "Processing row 9800/12493\n",
            "Processing row 9900/12493\n",
            "Processing row 10000/12493\n",
            "Processing row 10100/12493\n",
            "Processing row 10200/12493\n",
            "Processing row 10300/12493\n",
            "Processing row 10400/12493\n",
            "Processing row 10500/12493\n",
            "Processing row 10600/12493\n",
            "Processing row 10700/12493\n",
            "Processing row 10800/12493\n",
            "Processing row 10900/12493\n",
            "Processing row 11000/12493\n",
            "Processing row 11100/12493\n",
            "Processing row 11200/12493\n",
            "Processing row 11300/12493\n",
            "Processing row 11400/12493\n",
            "Processing row 11500/12493\n",
            "Processing row 11600/12493\n",
            "Processing row 11700/12493\n",
            "Processing row 11800/12493\n",
            "Processing row 11900/12493\n",
            "Processing row 12000/12493\n",
            "Processing row 12100/12493\n",
            "Processing row 12200/12493\n",
            "Processing row 12300/12493\n",
            "Processing row 12400/12493\n"
          ]
        }
      ],
      "source": [
        "import os\n",
        "import pandas as pd\n",
        "\n",
        "# Load the full DataFrames (replace with your actual loading code)\n",
        "# train_stance = pd.read_csv('train_stance.csv')\n",
        "# train_bodies = pd.read_csv('train_bodies.csv')\n",
        "\n",
        "# Select 25% of the rows\n",
        "train_stance_subset = train_stance.sample(frac=0.25, random_state=1).reset_index(drop=True)\n",
        "train_bodies_subset = train_bodies.sample(frac=0.25, random_state=1).reset_index(drop=True)\n",
        "\n",
        "# Initialize the 'articleBody' column in train_stance_subset\n",
        "train_stance_subset['articleBody'] = None\n",
        "\n",
        "# Merge process for the subset\n",
        "for i in range(train_stance_subset.shape[0]):\n",
        "    if i % 100 == 0:  # Print progress every 100 iterations\n",
        "        print(f'Processing row {i}/{train_stance_subset.shape[0]}')\n",
        "    for j in range(train_bodies_subset.shape[0]):\n",
        "        if train_bodies_subset.loc[j, 'Body ID'] == train_stance_subset.loc[i, 'Body ID']:\n",
        "            train_stance_subset.loc[i, 'articleBody'] = train_bodies_subset.loc[j, 'articleBody']\n",
        "\n",
        "# Save the merged subset DataFrame to a new CSV file\n",
        "train_stance_subset.to_csv(os.path.join(os.getcwd(), 'data_combined_subset.csv'), index=False)\n"
      ]
    },
    {
      "cell_type": "code",
      "execution_count": 16,
      "metadata": {
        "id": "NtKpIAQcb1lR",
        "scrolled": true,
        "trusted": true
      },
      "outputs": [
        {
          "name": "stdout",
          "output_type": "stream",
          "text": [
            "                                            Headline  Body ID     Stance  \\\n",
            "0  Report: Amazon to Launch Ad-Supported Streamin...     1071  unrelated   \n",
            "1  That Boko Haram Ceasefire in Nigeria Isn’t A C...       35  unrelated   \n",
            "2  High School Student Rumored to Have Made $72 M...     1024  unrelated   \n",
            "3  Al-Shabaab co-founder confirmed killed by US a...      646  unrelated   \n",
            "4  Confusion swirls, details murky in arrest of I...     2337    discuss   \n",
            "\n",
            "                                         articleBody  \n",
            "0                                                NaN  \n",
            "1                                                NaN  \n",
            "2  A 10-year-old member of the ISIS terror group ...  \n",
            "3  The mystery surrounding the disappearance of 4...  \n",
            "4                                                NaN  \n"
          ]
        }
      ],
      "source": [
        "import pandas as pd\n",
        "import os\n",
        "\n",
        "# Load the combined data\n",
        "data = pd.read_csv(os.path.join(os.getcwd(), 'data_combined_subset.csv'))\n",
        "\n",
        "# Display the first few rows of the DataFrame\n",
        "print(data.head())\n"
      ]
    },
    {
      "cell_type": "code",
      "execution_count": 17,
      "metadata": {
        "id": "zTYKAkakb1lS",
        "trusted": true
      },
      "outputs": [
        {
          "data": {
            "text/plain": [
              "Stance\n",
              "unrelated    9079\n",
              "discuss      2269\n",
              "agree         923\n",
              "disagree      222\n",
              "Name: count, dtype: int64"
            ]
          },
          "execution_count": 17,
          "metadata": {},
          "output_type": "execute_result"
        }
      ],
      "source": [
        "data['stance_cat'] = data['Stance'].map({'agree':0,'disagree':1,'discuss':2,'unrelated':3}).astype(int)\n",
        "data['Stance'].value_counts()"
      ]
    },
    {
      "cell_type": "code",
      "execution_count": 18,
      "metadata": {
        "id": "9HlmD8RTb1lT",
        "scrolled": true,
        "trusted": true
      },
      "outputs": [
        {
          "name": "stdout",
          "output_type": "stream",
          "text": [
            "24986\n",
            "24986\n",
            "Vocabulary Length is 26719\n"
          ]
        }
      ],
      "source": [
        "import numpy as np\n",
        "import pandas as pd\n",
        "\n",
        "# Load the subset data\n",
        "data = pd.read_csv(os.path.join(os.getcwd(), 'data_combined_subset.csv'))\n",
        "\n",
        "# Fill missing values with an empty string\n",
        "data['Headline'] = data['Headline'].fillna('')\n",
        "data['articleBody'] = data['articleBody'].fillna('')\n",
        "\n",
        "# Combine Headline and Article Body into one corpus\n",
        "corpus = np.r_[data['Headline'].values, data['articleBody'].values]\n",
        "\n",
        "# Print the expected length and actual length of the corpus\n",
        "expected_length = 2 * len(data)  # Since we have two columns, Headline and articleBody\n",
        "print(expected_length)\n",
        "print(len(corpus))  # Actual length of the corpus\n",
        "\n",
        "# Create a vocabulary list\n",
        "vocabulary = []\n",
        "for sentence in corpus:\n",
        "    if isinstance(sentence, str):  # Check if the value is a string\n",
        "        vocabulary.extend(sentence.split(' '))\n",
        "\n",
        "# Remove duplicates and calculate vocabulary length\n",
        "vocabulary = list(set(vocabulary))\n",
        "vocab_length = len(vocabulary)\n",
        "print(\"Vocabulary Length is {0}\".format(vocab_length))\n"
      ]
    },
    {
      "cell_type": "markdown",
      "metadata": {
        "id": "XAOf2a-qb1lT"
      },
      "source": [
        "## Model Training Parameters"
      ]
    },
    {
      "cell_type": "code",
      "execution_count": 19,
      "metadata": {
        "id": "fF0YSiLtb1lU",
        "trusted": true
      },
      "outputs": [],
      "source": [
        "# max_features = 5000\n",
        "# MAX_NB_WORDS = 24000\n",
        "# EMBEDDING_DIM = 50\n",
        "# MAX_SEQUENCE_LENGTH = 64\n",
        "\n",
        "max_features = 2000  # Reduced number of unique words\n",
        "MAX_NB_WORDS = 5000  # Reduced vocabulary size\n",
        "EMBEDDING_DIM = 50  # Typically remains the same\n",
        "MAX_SEQUENCE_LENGTH = 50  # Adjust based on the average length of texts in the subset\n"
      ]
    },
    {
      "cell_type": "markdown",
      "metadata": {
        "id": "W5NZx8Mib1lU"
      },
      "source": [
        "## Creating Embedding Matrix For Headline and Body\n",
        "\n",
        "We create Emebdding Matrix for headline and Body to be served as a first layer of Deep learning Model"
      ]
    },
    {
      "cell_type": "code",
      "execution_count": 21,
      "metadata": {
        "id": "DS6MqXjQb1lV",
        "trusted": true
      },
      "outputs": [],
      "source": [
        "GLOVE_DIR = \"./fake/\"\n",
        "def setup_embedding_index():\n",
        "    embedding_index=dict()\n",
        "    f = open(os.path.join(GLOVE_DIR,\"glove.6B.50d.txt\"),encoding='utf-8')\n",
        "    for line in f:\n",
        "        values = line.split()\n",
        "        word = values[0]\n",
        "        coefs = np.array(values[1:],dtype='float32')\n",
        "        embedding_index[word] = coefs\n",
        "    f.close()\n",
        "    return embedding_index\n",
        "embeddings_index = setup_embedding_index()"
      ]
    },
    {
      "cell_type": "markdown",
      "metadata": {
        "id": "Q34I6U5vb1lV"
      },
      "source": [
        "## Padding headline and body\n",
        "\n",
        "We pad the headline into length of 16 as headline is of shorter length and body into length of 48 as observed best performing parameter for body is 48."
      ]
    },
    {
      "cell_type": "code",
      "execution_count": 22,
      "metadata": {
        "id": "Psx0b1Vmb1lW",
        "trusted": true
      },
      "outputs": [
        {
          "name": "stdout",
          "output_type": "stream",
          "text": [
            "3786\n"
          ]
        }
      ],
      "source": [
        "tokenizer_headline = Tokenizer(num_words=max_features, split=' ')\n",
        "tokenizer_headline.fit_on_texts(data.loc[:,'Headline'].values)\n",
        "vocab_headline_length = len(tokenizer_headline.word_index)+1\n",
        "\n",
        "encoded_docs_headline = tokenizer_headline.texts_to_sequences(data.loc[:,'Headline'])\n",
        "padded_docs_headline = pad_sequences(encoded_docs_headline, maxlen=16, padding='post')\n",
        "\n",
        "print(vocab_headline_length)\n",
        "word_index_headline = tokenizer_headline.word_index\n",
        "\n",
        "NUM_WORDS_HEADLINE = vocab_headline_length"
      ]
    },
    {
      "cell_type": "code",
      "execution_count": 23,
      "metadata": {
        "id": "kCocS3NVb1lW",
        "trusted": true
      },
      "outputs": [
        {
          "name": "stdout",
          "output_type": "stream",
          "text": [
            "13680\n",
            "13680\n"
          ]
        }
      ],
      "source": [
        "tokenizer_body = Tokenizer(num_words=max_features, split=' ')\n",
        "tokenizer_body.fit_on_texts(data.loc[:,'articleBody'].values)\n",
        "vocab_body_length = len(tokenizer_body.word_index)+1\n",
        "\n",
        "encoded_docs_body = tokenizer_body.texts_to_sequences(data.loc[:,'articleBody'])\n",
        "padded_docs_body = pad_sequences(encoded_docs_body, maxlen=48, padding='post')\n",
        "\n",
        "print(vocab_body_length)\n",
        "word_index_body = tokenizer_body.word_index\n",
        "\n",
        "NUM_WORDS_BODY = vocab_body_length\n",
        "print(NUM_WORDS_BODY)"
      ]
    },
    {
      "cell_type": "code",
      "execution_count": 24,
      "metadata": {
        "id": "grjz75APb1lX",
        "trusted": true
      },
      "outputs": [
        {
          "name": "stdout",
          "output_type": "stream",
          "text": [
            "50\n"
          ]
        }
      ],
      "source": [
        "\n",
        "embedding_matrix_headline = np.zeros((NUM_WORDS_HEADLINE, EMBEDDING_DIM))\n",
        "\n",
        "for word, i in tokenizer_headline.word_index.items():\n",
        "    embedding_vector = embeddings_index.get(word)\n",
        "    if embedding_vector is not None:\n",
        "        embedding_matrix_headline[i] = embedding_vector\n",
        "dims = len(embedding_matrix_headline[0])\n",
        "\n",
        "print(dims)"
      ]
    },
    {
      "cell_type": "code",
      "execution_count": 25,
      "metadata": {
        "id": "b454x_8Bb1lX",
        "trusted": true
      },
      "outputs": [
        {
          "name": "stdout",
          "output_type": "stream",
          "text": [
            "50\n"
          ]
        }
      ],
      "source": [
        "\n",
        "embedding_matrix_body = np.zeros((NUM_WORDS_BODY, EMBEDDING_DIM))\n",
        "\n",
        "for word, i in tokenizer_body.word_index.items():\n",
        "    embedding_vector = embeddings_index.get(word)\n",
        "    if embedding_vector is not None:\n",
        "        embedding_matrix_body[i] = embedding_vector\n",
        "dims = len(embedding_matrix_body[0])\n",
        "\n",
        "print(dims)"
      ]
    },
    {
      "cell_type": "code",
      "execution_count": 26,
      "metadata": {
        "id": "u6fGm8ewb1lX",
        "trusted": true
      },
      "outputs": [
        {
          "name": "stdout",
          "output_type": "stream",
          "text": [
            "(12493, 16)\n",
            "(12493, 48)\n"
          ]
        }
      ],
      "source": [
        "print(padded_docs_headline.shape)\n",
        "print(padded_docs_body.shape)"
      ]
    },
    {
      "cell_type": "markdown",
      "metadata": {
        "id": "ee8VO4VDb1lY"
      },
      "source": [
        "## Model Architecture"
      ]
    },
    {
      "cell_type": "code",
      "execution_count": 45,
      "metadata": {
        "id": "Ym9O7jrHb1lY",
        "trusted": true
      },
      "outputs": [],
      "source": [
        "input_headline = Input(shape=(16,), name='input_headline')\n",
        "embedding_layer_headline = Embedding(input_dim = vocab_headline_length,output_dim = 50,\n",
        "                                     weights=[embedding_matrix_headline],\n",
        "                                     input_length = 16,trainable=True)(input_headline)\n",
        "\n",
        "# lstm_headline = LSTM(units=16)(e+mbedding_layer_headline)\n",
        "\n",
        "input_body = Input(shape=(48,), name='input_body')\n",
        "\n",
        "embedding_layer_body = Embedding(input_dim = vocab_body_length,output_dim = 50,weights = [embedding_matrix_body],\n",
        "                                 input_length=48,trainable = True)(input_body)\n",
        "lstm_body = LSTM(units=48)(embedding_layer_body)\n",
        "\n",
        "addition_layer = concatenate([embedding_layer_headline,embedding_layer_body],axis=1)\n",
        "\n",
        "# addition_layer = concatenate([lstm_headline,lstm_body],axis=1)\n",
        "lstm = LSTM(units=64,)(addition_layer)\n",
        "drop = Dropout(0.25)(lstm)\n",
        "# dense = Dense(64,activation='relu')(drop)\n",
        "# flatten = Flatten()(addition_layer)\n",
        "\n",
        "output = Dense(4,activation='sigmoid')(drop)\n",
        "\n",
        "model = Model(inputs=[input_headline,input_body],outputs=output)\n",
        "# from keras.optimizers import SGD\n",
        "# sgd = SGD(lr=0.0001, decay=1e-6, momentum=0.9, nesterov=True)\n",
        "\n",
        "# model.compile(loss = \"categorical_crossentropy\", optimizer = sgd,metrics = ['accuracy'])\n",
        "\n",
        "model.compile(optimizer = 'adam',loss ='categorical_crossentropy',metrics = ['accuracy'])\n"
      ]
    },
    {
      "cell_type": "code",
      "execution_count": 46,
      "metadata": {
        "id": "kZo-2riGb1lZ",
        "scrolled": true,
        "trusted": true
      },
      "outputs": [
        {
          "data": {
            "text/html": [
              "<pre style=\"white-space:pre;overflow-x:auto;line-height:normal;font-family:Menlo,'DejaVu Sans Mono',consolas,'Courier New',monospace\"><span style=\"font-weight: bold\">Model: \"functional_2\"</span>\n",
              "</pre>\n"
            ],
            "text/plain": [
              "\u001b[1mModel: \"functional_2\"\u001b[0m\n"
            ]
          },
          "metadata": {},
          "output_type": "display_data"
        },
        {
          "data": {
            "text/html": [
              "<pre style=\"white-space:pre;overflow-x:auto;line-height:normal;font-family:Menlo,'DejaVu Sans Mono',consolas,'Courier New',monospace\">┏━━━━━━━━━━━━━━━━━━━━━┳━━━━━━━━━━━━━━━━━━━┳━━━━━━━━━━━━┳━━━━━━━━━━━━━━━━━━━┓\n",
              "┃<span style=\"font-weight: bold\"> Layer (type)        </span>┃<span style=\"font-weight: bold\"> Output Shape      </span>┃<span style=\"font-weight: bold\">    Param # </span>┃<span style=\"font-weight: bold\"> Connected to      </span>┃\n",
              "┡━━━━━━━━━━━━━━━━━━━━━╇━━━━━━━━━━━━━━━━━━━╇━━━━━━━━━━━━╇━━━━━━━━━━━━━━━━━━━┩\n",
              "│ input_headline      │ (<span style=\"color: #00d7ff; text-decoration-color: #00d7ff\">None</span>, <span style=\"color: #00af00; text-decoration-color: #00af00\">16</span>)        │          <span style=\"color: #00af00; text-decoration-color: #00af00\">0</span> │ -                 │\n",
              "│ (<span style=\"color: #0087ff; text-decoration-color: #0087ff\">InputLayer</span>)        │                   │            │                   │\n",
              "├─────────────────────┼───────────────────┼────────────┼───────────────────┤\n",
              "│ input_body          │ (<span style=\"color: #00d7ff; text-decoration-color: #00d7ff\">None</span>, <span style=\"color: #00af00; text-decoration-color: #00af00\">48</span>)        │          <span style=\"color: #00af00; text-decoration-color: #00af00\">0</span> │ -                 │\n",
              "│ (<span style=\"color: #0087ff; text-decoration-color: #0087ff\">InputLayer</span>)        │                   │            │                   │\n",
              "├─────────────────────┼───────────────────┼────────────┼───────────────────┤\n",
              "│ embedding_5         │ (<span style=\"color: #00d7ff; text-decoration-color: #00d7ff\">None</span>, <span style=\"color: #00af00; text-decoration-color: #00af00\">16</span>, <span style=\"color: #00af00; text-decoration-color: #00af00\">50</span>)    │    <span style=\"color: #00af00; text-decoration-color: #00af00\">189,300</span> │ input_headline[<span style=\"color: #00af00; text-decoration-color: #00af00\">0</span>… │\n",
              "│ (<span style=\"color: #0087ff; text-decoration-color: #0087ff\">Embedding</span>)         │                   │            │                   │\n",
              "├─────────────────────┼───────────────────┼────────────┼───────────────────┤\n",
              "│ embedding_6         │ (<span style=\"color: #00d7ff; text-decoration-color: #00d7ff\">None</span>, <span style=\"color: #00af00; text-decoration-color: #00af00\">48</span>, <span style=\"color: #00af00; text-decoration-color: #00af00\">50</span>)    │    <span style=\"color: #00af00; text-decoration-color: #00af00\">684,000</span> │ input_body[<span style=\"color: #00af00; text-decoration-color: #00af00\">0</span>][<span style=\"color: #00af00; text-decoration-color: #00af00\">0</span>]  │\n",
              "│ (<span style=\"color: #0087ff; text-decoration-color: #0087ff\">Embedding</span>)         │                   │            │                   │\n",
              "├─────────────────────┼───────────────────┼────────────┼───────────────────┤\n",
              "│ concatenate_2       │ (<span style=\"color: #00d7ff; text-decoration-color: #00d7ff\">None</span>, <span style=\"color: #00af00; text-decoration-color: #00af00\">64</span>, <span style=\"color: #00af00; text-decoration-color: #00af00\">50</span>)    │          <span style=\"color: #00af00; text-decoration-color: #00af00\">0</span> │ embedding_5[<span style=\"color: #00af00; text-decoration-color: #00af00\">0</span>][<span style=\"color: #00af00; text-decoration-color: #00af00\">0</span>… │\n",
              "│ (<span style=\"color: #0087ff; text-decoration-color: #0087ff\">Concatenate</span>)       │                   │            │ embedding_6[<span style=\"color: #00af00; text-decoration-color: #00af00\">0</span>][<span style=\"color: #00af00; text-decoration-color: #00af00\">0</span>] │\n",
              "├─────────────────────┼───────────────────┼────────────┼───────────────────┤\n",
              "│ lstm_5 (<span style=\"color: #0087ff; text-decoration-color: #0087ff\">LSTM</span>)       │ (<span style=\"color: #00d7ff; text-decoration-color: #00d7ff\">None</span>, <span style=\"color: #00af00; text-decoration-color: #00af00\">64</span>)        │     <span style=\"color: #00af00; text-decoration-color: #00af00\">29,440</span> │ concatenate_2[<span style=\"color: #00af00; text-decoration-color: #00af00\">0</span>]… │\n",
              "├─────────────────────┼───────────────────┼────────────┼───────────────────┤\n",
              "│ dropout_2 (<span style=\"color: #0087ff; text-decoration-color: #0087ff\">Dropout</span>) │ (<span style=\"color: #00d7ff; text-decoration-color: #00d7ff\">None</span>, <span style=\"color: #00af00; text-decoration-color: #00af00\">64</span>)        │          <span style=\"color: #00af00; text-decoration-color: #00af00\">0</span> │ lstm_5[<span style=\"color: #00af00; text-decoration-color: #00af00\">0</span>][<span style=\"color: #00af00; text-decoration-color: #00af00\">0</span>]      │\n",
              "├─────────────────────┼───────────────────┼────────────┼───────────────────┤\n",
              "│ dense_2 (<span style=\"color: #0087ff; text-decoration-color: #0087ff\">Dense</span>)     │ (<span style=\"color: #00d7ff; text-decoration-color: #00d7ff\">None</span>, <span style=\"color: #00af00; text-decoration-color: #00af00\">4</span>)         │        <span style=\"color: #00af00; text-decoration-color: #00af00\">260</span> │ dropout_2[<span style=\"color: #00af00; text-decoration-color: #00af00\">0</span>][<span style=\"color: #00af00; text-decoration-color: #00af00\">0</span>]   │\n",
              "└─────────────────────┴───────────────────┴────────────┴───────────────────┘\n",
              "</pre>\n"
            ],
            "text/plain": [
              "┏━━━━━━━━━━━━━━━━━━━━━┳━━━━━━━━━━━━━━━━━━━┳━━━━━━━━━━━━┳━━━━━━━━━━━━━━━━━━━┓\n",
              "┃\u001b[1m \u001b[0m\u001b[1mLayer (type)       \u001b[0m\u001b[1m \u001b[0m┃\u001b[1m \u001b[0m\u001b[1mOutput Shape     \u001b[0m\u001b[1m \u001b[0m┃\u001b[1m \u001b[0m\u001b[1m   Param #\u001b[0m\u001b[1m \u001b[0m┃\u001b[1m \u001b[0m\u001b[1mConnected to     \u001b[0m\u001b[1m \u001b[0m┃\n",
              "┡━━━━━━━━━━━━━━━━━━━━━╇━━━━━━━━━━━━━━━━━━━╇━━━━━━━━━━━━╇━━━━━━━━━━━━━━━━━━━┩\n",
              "│ input_headline      │ (\u001b[38;5;45mNone\u001b[0m, \u001b[38;5;34m16\u001b[0m)        │          \u001b[38;5;34m0\u001b[0m │ -                 │\n",
              "│ (\u001b[38;5;33mInputLayer\u001b[0m)        │                   │            │                   │\n",
              "├─────────────────────┼───────────────────┼────────────┼───────────────────┤\n",
              "│ input_body          │ (\u001b[38;5;45mNone\u001b[0m, \u001b[38;5;34m48\u001b[0m)        │          \u001b[38;5;34m0\u001b[0m │ -                 │\n",
              "│ (\u001b[38;5;33mInputLayer\u001b[0m)        │                   │            │                   │\n",
              "├─────────────────────┼───────────────────┼────────────┼───────────────────┤\n",
              "│ embedding_5         │ (\u001b[38;5;45mNone\u001b[0m, \u001b[38;5;34m16\u001b[0m, \u001b[38;5;34m50\u001b[0m)    │    \u001b[38;5;34m189,300\u001b[0m │ input_headline[\u001b[38;5;34m0\u001b[0m… │\n",
              "│ (\u001b[38;5;33mEmbedding\u001b[0m)         │                   │            │                   │\n",
              "├─────────────────────┼───────────────────┼────────────┼───────────────────┤\n",
              "│ embedding_6         │ (\u001b[38;5;45mNone\u001b[0m, \u001b[38;5;34m48\u001b[0m, \u001b[38;5;34m50\u001b[0m)    │    \u001b[38;5;34m684,000\u001b[0m │ input_body[\u001b[38;5;34m0\u001b[0m][\u001b[38;5;34m0\u001b[0m]  │\n",
              "│ (\u001b[38;5;33mEmbedding\u001b[0m)         │                   │            │                   │\n",
              "├─────────────────────┼───────────────────┼────────────┼───────────────────┤\n",
              "│ concatenate_2       │ (\u001b[38;5;45mNone\u001b[0m, \u001b[38;5;34m64\u001b[0m, \u001b[38;5;34m50\u001b[0m)    │          \u001b[38;5;34m0\u001b[0m │ embedding_5[\u001b[38;5;34m0\u001b[0m][\u001b[38;5;34m0\u001b[0m… │\n",
              "│ (\u001b[38;5;33mConcatenate\u001b[0m)       │                   │            │ embedding_6[\u001b[38;5;34m0\u001b[0m][\u001b[38;5;34m0\u001b[0m] │\n",
              "├─────────────────────┼───────────────────┼────────────┼───────────────────┤\n",
              "│ lstm_5 (\u001b[38;5;33mLSTM\u001b[0m)       │ (\u001b[38;5;45mNone\u001b[0m, \u001b[38;5;34m64\u001b[0m)        │     \u001b[38;5;34m29,440\u001b[0m │ concatenate_2[\u001b[38;5;34m0\u001b[0m]… │\n",
              "├─────────────────────┼───────────────────┼────────────┼───────────────────┤\n",
              "│ dropout_2 (\u001b[38;5;33mDropout\u001b[0m) │ (\u001b[38;5;45mNone\u001b[0m, \u001b[38;5;34m64\u001b[0m)        │          \u001b[38;5;34m0\u001b[0m │ lstm_5[\u001b[38;5;34m0\u001b[0m][\u001b[38;5;34m0\u001b[0m]      │\n",
              "├─────────────────────┼───────────────────┼────────────┼───────────────────┤\n",
              "│ dense_2 (\u001b[38;5;33mDense\u001b[0m)     │ (\u001b[38;5;45mNone\u001b[0m, \u001b[38;5;34m4\u001b[0m)         │        \u001b[38;5;34m260\u001b[0m │ dropout_2[\u001b[38;5;34m0\u001b[0m][\u001b[38;5;34m0\u001b[0m]   │\n",
              "└─────────────────────┴───────────────────┴────────────┴───────────────────┘\n"
            ]
          },
          "metadata": {},
          "output_type": "display_data"
        },
        {
          "data": {
            "text/html": [
              "<pre style=\"white-space:pre;overflow-x:auto;line-height:normal;font-family:Menlo,'DejaVu Sans Mono',consolas,'Courier New',monospace\"><span style=\"font-weight: bold\"> Total params: </span><span style=\"color: #00af00; text-decoration-color: #00af00\">903,000</span> (3.44 MB)\n",
              "</pre>\n"
            ],
            "text/plain": [
              "\u001b[1m Total params: \u001b[0m\u001b[38;5;34m903,000\u001b[0m (3.44 MB)\n"
            ]
          },
          "metadata": {},
          "output_type": "display_data"
        },
        {
          "data": {
            "text/html": [
              "<pre style=\"white-space:pre;overflow-x:auto;line-height:normal;font-family:Menlo,'DejaVu Sans Mono',consolas,'Courier New',monospace\"><span style=\"font-weight: bold\"> Trainable params: </span><span style=\"color: #00af00; text-decoration-color: #00af00\">903,000</span> (3.44 MB)\n",
              "</pre>\n"
            ],
            "text/plain": [
              "\u001b[1m Trainable params: \u001b[0m\u001b[38;5;34m903,000\u001b[0m (3.44 MB)\n"
            ]
          },
          "metadata": {},
          "output_type": "display_data"
        },
        {
          "data": {
            "text/html": [
              "<pre style=\"white-space:pre;overflow-x:auto;line-height:normal;font-family:Menlo,'DejaVu Sans Mono',consolas,'Courier New',monospace\"><span style=\"font-weight: bold\"> Non-trainable params: </span><span style=\"color: #00af00; text-decoration-color: #00af00\">0</span> (0.00 B)\n",
              "</pre>\n"
            ],
            "text/plain": [
              "\u001b[1m Non-trainable params: \u001b[0m\u001b[38;5;34m0\u001b[0m (0.00 B)\n"
            ]
          },
          "metadata": {},
          "output_type": "display_data"
        }
      ],
      "source": [
        "model.summary()"
      ]
    },
    {
      "cell_type": "code",
      "execution_count": 47,
      "metadata": {},
      "outputs": [
        {
          "name": "stdout",
          "output_type": "stream",
          "text": [
            "Requirement already satisfied: pydot in g:\\projects\\mini_project\\github\\venv\\lib\\site-packages (3.0.1)\n",
            "Requirement already satisfied: pyparsing>=3.0.9 in g:\\projects\\mini_project\\github\\venv\\lib\\site-packages (from pydot) (3.1.4)\n"
          ]
        },
        {
          "name": "stderr",
          "output_type": "stream",
          "text": [
            "WARNING: You are using pip version 21.2.3; however, version 24.2 is available.\n",
            "You should consider upgrading via the 'G:\\PROJECTS\\MINI_PROJECT\\Github\\venv\\Scripts\\python.exe -m pip install --upgrade pip' command.\n"
          ]
        },
        {
          "name": "stdout",
          "output_type": "stream",
          "text": [
            "Requirement already satisfied: graphviz in g:\\projects\\mini_project\\github\\venv\\lib\\site-packages (0.20.3)\n"
          ]
        },
        {
          "name": "stderr",
          "output_type": "stream",
          "text": [
            "WARNING: You are using pip version 21.2.3; however, version 24.2 is available.\n",
            "You should consider upgrading via the 'G:\\PROJECTS\\MINI_PROJECT\\Github\\venv\\Scripts\\python.exe -m pip install --upgrade pip' command.\n"
          ]
        }
      ],
      "source": [
        "!pip install pydot \n",
        "!pip install graphviz"
      ]
    },
    {
      "cell_type": "code",
      "execution_count": 48,
      "metadata": {
        "id": "uXhvbM5ob1lZ",
        "trusted": true
      },
      "outputs": [
        {
          "data": {
            "image/png": "[encoded data removed]",
            "text/plain": [
              "<Figure size 1200x800 with 1 Axes>"
            ]
          },
          "metadata": {},
          "output_type": "display_data"
        }
      ],
      "source": [
        "# plot_model(model, to_file='model_glove_lstm.png', show_shapes=True, show_layer_names=True)\n",
        "\n",
        "import matplotlib.pyplot as plt\n",
        "import matplotlib.patches as patches\n",
        "\n",
        "def plot_model_architecture(model, file_path='model_glove_lstm.png'):\n",
        "    fig, ax = plt.subplots(figsize=(12, 8))\n",
        "    \n",
        "    # Define a simple model architecture (customize as needed)\n",
        "    layers = [\n",
        "        (\"Input Layer\", 0, 5),\n",
        "        (\"Embedding Layer\", 1, 5),\n",
        "        (\"LSTM Layer 1\", 2, 5),\n",
        "        (\"Dropout Layer\", 3, 5),\n",
        "        (\"LSTM Layer 2\", 4, 5),\n",
        "        (\"Dense Layer\", 5, 5),\n",
        "    ]\n",
        "    \n",
        "    # Plot the layers\n",
        "    for layer_name, x, y in layers:\n",
        "        rect = patches.FancyBboxPatch((x*2, y*2), 1.5, 0.5, boxstyle=\"round,pad=0.1\", edgecolor='black', facecolor='lightblue')\n",
        "        ax.add_patch(rect)\n",
        "        ax.text(x*2 + 0.75, y*2 + 0.25, layer_name, ha='center', va='center', fontsize=12, weight='bold')\n",
        "    \n",
        "    # Draw arrows between layers\n",
        "    for i in range(len(layers) - 1):\n",
        "        x1, y1 = layers[i][1]*2 + 0.75, layers[i][2]*2 + 0.25\n",
        "        x2, y2 = layers[i+1][1]*2 + 0.75, layers[i+1][2]*2 + 0.25\n",
        "        ax.annotate(\"\", xy=(x2, y2), xytext=(x1, y1),\n",
        "                    arrowprops=dict(arrowstyle=\"->\", color='black', lw=2))\n",
        "    \n",
        "    ax.set_xlim(-1, 12)\n",
        "    ax.set_ylim(-1, 12)\n",
        "    ax.axis('off')\n",
        "    plt.title('Model Architecture')\n",
        "    plt.savefig(file_path, dpi=300)\n",
        "    plt.show()\n",
        "\n",
        "# Assuming 'model' is your Keras model\n",
        "plot_model_architecture(model)\n"
      ]
    },
    {
      "cell_type": "code",
      "execution_count": 49,
      "metadata": {
        "id": "aT0UZnyjb1lZ",
        "trusted": true
      },
      "outputs": [
        {
          "name": "stdout",
          "output_type": "stream",
          "text": [
            "Index(['Headline', 'Body ID', 'Stance', 'articleBody'], dtype='object')\n",
            "                                            Headline  Body ID     Stance  \\\n",
            "0  Report: Amazon to Launch Ad-Supported Streamin...     1071  unrelated   \n",
            "1  That Boko Haram Ceasefire in Nigeria Isn’t A C...       35  unrelated   \n",
            "2  High School Student Rumored to Have Made $72 M...     1024  unrelated   \n",
            "3  Al-Shabaab co-founder confirmed killed by US a...      646  unrelated   \n",
            "4  Confusion swirls, details murky in arrest of I...     2337    discuss   \n",
            "\n",
            "                                         articleBody  stance_cat  \n",
            "0                                                NaN           3  \n",
            "1                                                NaN           3  \n",
            "2  A 10-year-old member of the ISIS terror group ...           3  \n",
            "3  The mystery surrounding the disappearance of 4...           3  \n",
            "4                                                NaN           2  \n"
          ]
        }
      ],
      "source": [
        "# padded_docs_headline_train = padded_docs_headline[:int(len(padded_docs_headline)*0.9),:]\n",
        "# padded_docs_headline_test = padded_docs_headline[int(len(padded_docs_headline)*0.9):,:]\n",
        "\n",
        "# padded_docs_body_train = padded_docs_body[:int(len(padded_docs_body)*0.9),:]\n",
        "# padded_docs_body_test = padded_docs_body[int(len(padded_docs_body)*0.9):,:]\n",
        "\n",
        "# labels = to_categorical(data.loc[:,'stance_cat'])\n",
        "\n",
        "# labels_train = labels[:int(len(labels)*0.9),:]\n",
        "# labels_test = labels[int(len(labels)*0.9):,:]\n",
        "\n",
        "\n",
        "import pandas as pd\n",
        "from keras.utils import to_categorical\n",
        "\n",
        "# Load your data\n",
        "data = pd.read_csv(os.path.join(os.getcwd(), 'data_combined_subset.csv'))\n",
        "\n",
        "# Check column names\n",
        "print(data.columns)\n",
        "\n",
        "# Ensure 'stance_cat' column exists\n",
        "if 'stance_cat' not in data.columns:\n",
        "    data['stance_cat'] = data['Stance'].map({'agree':0, 'disagree':1, 'discuss':2, 'unrelated':3}).astype(int)\n",
        "\n",
        "# Check if column was created correctly\n",
        "print(data.head())\n",
        "\n",
        "# Proceed with your code if 'stance_cat' column is present\n",
        "padded_docs_headline_train = padded_docs_headline[:int(len(padded_docs_headline)*0.9),:]\n",
        "padded_docs_headline_test = padded_docs_headline[int(len(padded_docs_headline)*0.9):,:]\n",
        "\n",
        "padded_docs_body_train = padded_docs_body[:int(len(padded_docs_body)*0.9),:]\n",
        "padded_docs_body_test = padded_docs_body[int(len(padded_docs_body)*0.9):,:]\n",
        "\n",
        "labels = to_categorical(data['stance_cat'])\n",
        "\n",
        "labels_train = labels[:int(len(labels)*0.9),:]\n",
        "labels_test = labels[int(len(labels)*0.9):,:]\n"
      ]
    },
    {
      "cell_type": "markdown",
      "metadata": {
        "id": "ik9aNrvlb1la"
      },
      "source": [
        "## Creating Checkpoints\n",
        "\n",
        "For saving the latest model trained after every epoch"
      ]
    },
    {
      "cell_type": "code",
      "execution_count": 50,
      "metadata": {
        "id": "TJ8BlWZjb1la",
        "trusted": true
      },
      "outputs": [],
      "source": [
        "# MODELS_DIR = os.path.join(\"/home/abhinav/fake_news_challenge/model/glove_lstm\")\n",
        "filepath = os.path.join(os.getcwd(),\"{epoch:02d}-{val_accuracy:.2f}.hdf5.keras\")\n",
        "checkpoint = ModelCheckpoint(filepath, monitor='val_accuracy', verbose=1, save_best_only=True, mode='max')"
      ]
    },
    {
      "cell_type": "markdown",
      "metadata": {
        "id": "irUjIGeyb1la"
      },
      "source": [
        "# Model Training"
      ]
    },
    {
      "cell_type": "code",
      "execution_count": 51,
      "metadata": {
        "id": "UV1YNVhbb1lb",
        "trusted": true
      },
      "outputs": [
        {
          "name": "stdout",
          "output_type": "stream",
          "text": [
            "Epoch 1/40\n",
            "\u001b[1m351/352\u001b[0m \u001b[32m━━━━━━━━━━━━━━━━━━━\u001b[0m\u001b[37m━\u001b[0m \u001b[1m0s\u001b[0m 30ms/step - accuracy: 0.7205 - loss: 0.8759\n",
            "Epoch 1: val_accuracy improved from -inf to 0.72400, saving model to g:\\PROJECTS\\MINI_PROJECT\\Github\\01-0.72.hdf5.keras\n",
            "\u001b[1m352/352\u001b[0m \u001b[32m━━━━━━━━━━━━━━━━━━━━\u001b[0m\u001b[37m\u001b[0m \u001b[1m15s\u001b[0m 33ms/step - accuracy: 0.7205 - loss: 0.8756 - val_accuracy: 0.7240 - val_loss: 0.8117\n",
            "Epoch 2/40\n",
            "\u001b[1m351/352\u001b[0m \u001b[32m━━━━━━━━━━━━━━━━━━━\u001b[0m\u001b[37m━\u001b[0m \u001b[1m0s\u001b[0m 30ms/step - accuracy: 0.7282 - loss: 0.7987\n",
            "Epoch 2: val_accuracy improved from 0.72400 to 0.72960, saving model to g:\\PROJECTS\\MINI_PROJECT\\Github\\02-0.73.hdf5.keras\n",
            "\u001b[1m352/352\u001b[0m \u001b[32m━━━━━━━━━━━━━━━━━━━━\u001b[0m\u001b[37m\u001b[0m \u001b[1m11s\u001b[0m 31ms/step - accuracy: 0.7282 - loss: 0.7987 - val_accuracy: 0.7296 - val_loss: 0.7999\n",
            "Epoch 3/40\n",
            "\u001b[1m351/352\u001b[0m \u001b[32m━━━━━━━━━━━━━━━━━━━\u001b[0m\u001b[37m━\u001b[0m \u001b[1m0s\u001b[0m 32ms/step - accuracy: 0.7343 - loss: 0.7851\n",
            "Epoch 3: val_accuracy improved from 0.72960 to 0.73360, saving model to g:\\PROJECTS\\MINI_PROJECT\\Github\\03-0.73.hdf5.keras\n",
            "\u001b[1m352/352\u001b[0m \u001b[32m━━━━━━━━━━━━━━━━━━━━\u001b[0m\u001b[37m\u001b[0m \u001b[1m12s\u001b[0m 33ms/step - accuracy: 0.7343 - loss: 0.7851 - val_accuracy: 0.7336 - val_loss: 0.7887\n",
            "Epoch 4/40\n",
            "\u001b[1m352/352\u001b[0m \u001b[32m━━━━━━━━━━━━━━━━━━━━\u001b[0m\u001b[37m\u001b[0m \u001b[1m0s\u001b[0m 30ms/step - accuracy: 0.7352 - loss: 0.7778\n",
            "Epoch 4: val_accuracy did not improve from 0.73360\n",
            "\u001b[1m352/352\u001b[0m \u001b[32m━━━━━━━━━━━━━━━━━━━━\u001b[0m\u001b[37m\u001b[0m \u001b[1m11s\u001b[0m 31ms/step - accuracy: 0.7352 - loss: 0.7778 - val_accuracy: 0.7240 - val_loss: 0.7896\n",
            "Epoch 5/40\n",
            "\u001b[1m352/352\u001b[0m \u001b[32m━━━━━━━━━━━━━━━━━━━━\u001b[0m\u001b[37m\u001b[0m \u001b[1m0s\u001b[0m 30ms/step - accuracy: 0.7387 - loss: 0.7604\n",
            "Epoch 5: val_accuracy did not improve from 0.73360\n",
            "\u001b[1m352/352\u001b[0m \u001b[32m━━━━━━━━━━━━━━━━━━━━\u001b[0m\u001b[37m\u001b[0m \u001b[1m11s\u001b[0m 31ms/step - accuracy: 0.7387 - loss: 0.7604 - val_accuracy: 0.7288 - val_loss: 0.7831\n",
            "Epoch 6/40\n",
            "\u001b[1m352/352\u001b[0m \u001b[32m━━━━━━━━━━━━━━━━━━━━\u001b[0m\u001b[37m\u001b[0m \u001b[1m0s\u001b[0m 30ms/step - accuracy: 0.7406 - loss: 0.7562\n",
            "Epoch 6: val_accuracy did not improve from 0.73360\n",
            "\u001b[1m352/352\u001b[0m \u001b[32m━━━━━━━━━━━━━━━━━━━━\u001b[0m\u001b[37m\u001b[0m \u001b[1m11s\u001b[0m 31ms/step - accuracy: 0.7406 - loss: 0.7562 - val_accuracy: 0.7280 - val_loss: 0.7855\n",
            "Epoch 7/40\n",
            "\u001b[1m351/352\u001b[0m \u001b[32m━━━━━━━━━━━━━━━━━━━\u001b[0m\u001b[37m━\u001b[0m \u001b[1m0s\u001b[0m 31ms/step - accuracy: 0.7422 - loss: 0.7520\n",
            "Epoch 7: val_accuracy did not improve from 0.73360\n",
            "\u001b[1m352/352\u001b[0m \u001b[32m━━━━━━━━━━━━━━━━━━━━\u001b[0m\u001b[37m\u001b[0m \u001b[1m11s\u001b[0m 32ms/step - accuracy: 0.7422 - loss: 0.7520 - val_accuracy: 0.7336 - val_loss: 0.7803\n",
            "Epoch 8/40\n",
            "\u001b[1m351/352\u001b[0m \u001b[32m━━━━━━━━━━━━━━━━━━━\u001b[0m\u001b[37m━\u001b[0m \u001b[1m0s\u001b[0m 32ms/step - accuracy: 0.7510 - loss: 0.7296\n",
            "Epoch 8: val_accuracy did not improve from 0.73360\n",
            "\u001b[1m352/352\u001b[0m \u001b[32m━━━━━━━━━━━━━━━━━━━━\u001b[0m\u001b[37m\u001b[0m \u001b[1m12s\u001b[0m 34ms/step - accuracy: 0.7510 - loss: 0.7297 - val_accuracy: 0.7320 - val_loss: 0.7860\n",
            "Epoch 9/40\n",
            "\u001b[1m351/352\u001b[0m \u001b[32m━━━━━━━━━━━━━━━━━━━\u001b[0m\u001b[37m━\u001b[0m \u001b[1m0s\u001b[0m 44ms/step - accuracy: 0.7466 - loss: 0.7358\n",
            "Epoch 9: val_accuracy did not improve from 0.73360\n",
            "\u001b[1m352/352\u001b[0m \u001b[32m━━━━━━━━━━━━━━━━━━━━\u001b[0m\u001b[37m\u001b[0m \u001b[1m16s\u001b[0m 46ms/step - accuracy: 0.7466 - loss: 0.7358 - val_accuracy: 0.7328 - val_loss: 0.7746\n",
            "Epoch 10/40\n",
            "\u001b[1m351/352\u001b[0m \u001b[32m━━━━━━━━━━━━━━━━━━━\u001b[0m\u001b[37m━\u001b[0m \u001b[1m0s\u001b[0m 72ms/step - accuracy: 0.7589 - loss: 0.7114\n",
            "Epoch 10: val_accuracy did not improve from 0.73360\n",
            "\u001b[1m352/352\u001b[0m \u001b[32m━━━━━━━━━━━━━━━━━━━━\u001b[0m\u001b[37m\u001b[0m \u001b[1m30s\u001b[0m 74ms/step - accuracy: 0.7589 - loss: 0.7115 - val_accuracy: 0.7304 - val_loss: 0.7906\n",
            "Epoch 11/40\n",
            "\u001b[1m351/352\u001b[0m \u001b[32m━━━━━━━━━━━━━━━━━━━\u001b[0m\u001b[37m━\u001b[0m \u001b[1m0s\u001b[0m 42ms/step - accuracy: 0.7580 - loss: 0.7136\n",
            "Epoch 11: val_accuracy did not improve from 0.73360\n",
            "\u001b[1m352/352\u001b[0m \u001b[32m━━━━━━━━━━━━━━━━━━━━\u001b[0m\u001b[37m\u001b[0m \u001b[1m16s\u001b[0m 44ms/step - accuracy: 0.7580 - loss: 0.7136 - val_accuracy: 0.7336 - val_loss: 0.7810\n",
            "Epoch 12/40\n",
            "\u001b[1m352/352\u001b[0m \u001b[32m━━━━━━━━━━━━━━━━━━━━\u001b[0m\u001b[37m\u001b[0m \u001b[1m0s\u001b[0m 30ms/step - accuracy: 0.7577 - loss: 0.7055\n",
            "Epoch 12: val_accuracy improved from 0.73360 to 0.73440, saving model to g:\\PROJECTS\\MINI_PROJECT\\Github\\12-0.73.hdf5.keras\n",
            "\u001b[1m352/352\u001b[0m \u001b[32m━━━━━━━━━━━━━━━━━━━━\u001b[0m\u001b[37m\u001b[0m \u001b[1m11s\u001b[0m 31ms/step - accuracy: 0.7577 - loss: 0.7055 - val_accuracy: 0.7344 - val_loss: 0.7913\n",
            "Epoch 13/40\n",
            "\u001b[1m350/352\u001b[0m \u001b[32m━━━━━━━━━━━━━━━━━━━\u001b[0m\u001b[37m━\u001b[0m \u001b[1m0s\u001b[0m 29ms/step - accuracy: 0.7631 - loss: 0.6934\n",
            "Epoch 13: val_accuracy improved from 0.73440 to 0.73520, saving model to g:\\PROJECTS\\MINI_PROJECT\\Github\\13-0.74.hdf5.keras\n",
            "\u001b[1m352/352\u001b[0m \u001b[32m━━━━━━━━━━━━━━━━━━━━\u001b[0m\u001b[37m\u001b[0m \u001b[1m11s\u001b[0m 31ms/step - accuracy: 0.7630 - loss: 0.6935 - val_accuracy: 0.7352 - val_loss: 0.7834\n",
            "Epoch 14/40\n",
            "\u001b[1m351/352\u001b[0m \u001b[32m━━━━━━━━━━━━━━━━━━━\u001b[0m\u001b[37m━\u001b[0m \u001b[1m0s\u001b[0m 28ms/step - accuracy: 0.7649 - loss: 0.6905\n",
            "Epoch 14: val_accuracy did not improve from 0.73520\n",
            "\u001b[1m352/352\u001b[0m \u001b[32m━━━━━━━━━━━━━━━━━━━━\u001b[0m\u001b[37m\u001b[0m \u001b[1m10s\u001b[0m 29ms/step - accuracy: 0.7649 - loss: 0.6905 - val_accuracy: 0.7344 - val_loss: 0.7818\n",
            "Epoch 15/40\n",
            "\u001b[1m351/352\u001b[0m \u001b[32m━━━━━━━━━━━━━━━━━━━\u001b[0m\u001b[37m━\u001b[0m \u001b[1m0s\u001b[0m 28ms/step - accuracy: 0.7662 - loss: 0.6877\n",
            "Epoch 15: val_accuracy did not improve from 0.73520\n",
            "\u001b[1m352/352\u001b[0m \u001b[32m━━━━━━━━━━━━━━━━━━━━\u001b[0m\u001b[37m\u001b[0m \u001b[1m10s\u001b[0m 29ms/step - accuracy: 0.7661 - loss: 0.6877 - val_accuracy: 0.7304 - val_loss: 0.7883\n",
            "Epoch 16/40\n",
            "\u001b[1m351/352\u001b[0m \u001b[32m━━━━━━━━━━━━━━━━━━━\u001b[0m\u001b[37m━\u001b[0m \u001b[1m0s\u001b[0m 28ms/step - accuracy: 0.7678 - loss: 0.6831\n",
            "Epoch 16: val_accuracy did not improve from 0.73520\n",
            "\u001b[1m352/352\u001b[0m \u001b[32m━━━━━━━━━━━━━━━━━━━━\u001b[0m\u001b[37m\u001b[0m \u001b[1m10s\u001b[0m 30ms/step - accuracy: 0.7678 - loss: 0.6831 - val_accuracy: 0.7208 - val_loss: 0.8056\n",
            "Epoch 17/40\n",
            "\u001b[1m351/352\u001b[0m \u001b[32m━━━━━━━━━━━━━━━━━━━\u001b[0m\u001b[37m━\u001b[0m \u001b[1m0s\u001b[0m 29ms/step - accuracy: 0.7660 - loss: 0.6884\n",
            "Epoch 17: val_accuracy did not improve from 0.73520\n",
            "\u001b[1m352/352\u001b[0m \u001b[32m━━━━━━━━━━━━━━━━━━━━\u001b[0m\u001b[37m\u001b[0m \u001b[1m11s\u001b[0m 30ms/step - accuracy: 0.7660 - loss: 0.6884 - val_accuracy: 0.7344 - val_loss: 0.7816\n",
            "Epoch 18/40\n",
            "\u001b[1m350/352\u001b[0m \u001b[32m━━━━━━━━━━━━━━━━━━━\u001b[0m\u001b[37m━\u001b[0m \u001b[1m0s\u001b[0m 30ms/step - accuracy: 0.7667 - loss: 0.6811\n",
            "Epoch 18: val_accuracy did not improve from 0.73520\n",
            "\u001b[1m352/352\u001b[0m \u001b[32m━━━━━━━━━━━━━━━━━━━━\u001b[0m\u001b[37m\u001b[0m \u001b[1m11s\u001b[0m 31ms/step - accuracy: 0.7667 - loss: 0.6811 - val_accuracy: 0.7288 - val_loss: 0.7908\n",
            "Epoch 19/40\n",
            "\u001b[1m352/352\u001b[0m \u001b[32m━━━━━━━━━━━━━━━━━━━━\u001b[0m\u001b[37m\u001b[0m \u001b[1m0s\u001b[0m 29ms/step - accuracy: 0.7763 - loss: 0.6605\n",
            "Epoch 19: val_accuracy did not improve from 0.73520\n",
            "\u001b[1m352/352\u001b[0m \u001b[32m━━━━━━━━━━━━━━━━━━━━\u001b[0m\u001b[37m\u001b[0m \u001b[1m11s\u001b[0m 30ms/step - accuracy: 0.7763 - loss: 0.6605 - val_accuracy: 0.7264 - val_loss: 0.8049\n",
            "Epoch 20/40\n",
            "\u001b[1m351/352\u001b[0m \u001b[32m━━━━━━━━━━━━━━━━━━━\u001b[0m\u001b[37m━\u001b[0m \u001b[1m0s\u001b[0m 29ms/step - accuracy: 0.7705 - loss: 0.6683\n",
            "Epoch 20: val_accuracy did not improve from 0.73520\n",
            "\u001b[1m352/352\u001b[0m \u001b[32m━━━━━━━━━━━━━━━━━━━━\u001b[0m\u001b[37m\u001b[0m \u001b[1m11s\u001b[0m 30ms/step - accuracy: 0.7705 - loss: 0.6683 - val_accuracy: 0.7288 - val_loss: 0.7988\n",
            "Epoch 21/40\n",
            "\u001b[1m350/352\u001b[0m \u001b[32m━━━━━━━━━━━━━━━━━━━\u001b[0m\u001b[37m━\u001b[0m \u001b[1m0s\u001b[0m 29ms/step - accuracy: 0.7762 - loss: 0.6584\n",
            "Epoch 21: val_accuracy did not improve from 0.73520\n",
            "\u001b[1m352/352\u001b[0m \u001b[32m━━━━━━━━━━━━━━━━━━━━\u001b[0m\u001b[37m\u001b[0m \u001b[1m10s\u001b[0m 30ms/step - accuracy: 0.7762 - loss: 0.6584 - val_accuracy: 0.7304 - val_loss: 0.7979\n",
            "Epoch 22/40\n",
            "\u001b[1m351/352\u001b[0m \u001b[32m━━━━━━━━━━━━━━━━━━━\u001b[0m\u001b[37m━\u001b[0m \u001b[1m0s\u001b[0m 29ms/step - accuracy: 0.7736 - loss: 0.6595\n",
            "Epoch 22: val_accuracy did not improve from 0.73520\n",
            "\u001b[1m352/352\u001b[0m \u001b[32m━━━━━━━━━━━━━━━━━━━━\u001b[0m\u001b[37m\u001b[0m \u001b[1m10s\u001b[0m 30ms/step - accuracy: 0.7736 - loss: 0.6595 - val_accuracy: 0.7256 - val_loss: 0.8258\n",
            "Epoch 23/40\n",
            "\u001b[1m352/352\u001b[0m \u001b[32m━━━━━━━━━━━━━━━━━━━━\u001b[0m\u001b[37m\u001b[0m \u001b[1m0s\u001b[0m 29ms/step - accuracy: 0.7815 - loss: 0.6598\n",
            "Epoch 23: val_accuracy did not improve from 0.73520\n",
            "\u001b[1m352/352\u001b[0m \u001b[32m━━━━━━━━━━━━━━━━━━━━\u001b[0m\u001b[37m\u001b[0m \u001b[1m11s\u001b[0m 30ms/step - accuracy: 0.7815 - loss: 0.6598 - val_accuracy: 0.7232 - val_loss: 0.8355\n",
            "Epoch 24/40\n",
            "\u001b[1m351/352\u001b[0m \u001b[32m━━━━━━━━━━━━━━━━━━━\u001b[0m\u001b[37m━\u001b[0m \u001b[1m0s\u001b[0m 30ms/step - accuracy: 0.7723 - loss: 0.6620\n",
            "Epoch 24: val_accuracy did not improve from 0.73520\n",
            "\u001b[1m352/352\u001b[0m \u001b[32m━━━━━━━━━━━━━━━━━━━━\u001b[0m\u001b[37m\u001b[0m \u001b[1m11s\u001b[0m 31ms/step - accuracy: 0.7723 - loss: 0.6620 - val_accuracy: 0.7280 - val_loss: 0.8220\n",
            "Epoch 25/40\n",
            "\u001b[1m351/352\u001b[0m \u001b[32m━━━━━━━━━━━━━━━━━━━\u001b[0m\u001b[37m━\u001b[0m \u001b[1m0s\u001b[0m 29ms/step - accuracy: 0.7731 - loss: 0.6628\n",
            "Epoch 25: val_accuracy did not improve from 0.73520\n",
            "\u001b[1m352/352\u001b[0m \u001b[32m━━━━━━━━━━━━━━━━━━━━\u001b[0m\u001b[37m\u001b[0m \u001b[1m11s\u001b[0m 30ms/step - accuracy: 0.7732 - loss: 0.6628 - val_accuracy: 0.7240 - val_loss: 0.8411\n",
            "Epoch 26/40\n",
            "\u001b[1m352/352\u001b[0m \u001b[32m━━━━━━━━━━━━━━━━━━━━\u001b[0m\u001b[37m\u001b[0m \u001b[1m0s\u001b[0m 29ms/step - accuracy: 0.7798 - loss: 0.6488\n",
            "Epoch 26: val_accuracy did not improve from 0.73520\n",
            "\u001b[1m352/352\u001b[0m \u001b[32m━━━━━━━━━━━━━━━━━━━━\u001b[0m\u001b[37m\u001b[0m \u001b[1m11s\u001b[0m 30ms/step - accuracy: 0.7798 - loss: 0.6488 - val_accuracy: 0.7312 - val_loss: 0.8293\n",
            "Epoch 27/40\n",
            "\u001b[1m351/352\u001b[0m \u001b[32m━━━━━━━━━━━━━━━━━━━\u001b[0m\u001b[37m━\u001b[0m \u001b[1m0s\u001b[0m 29ms/step - accuracy: 0.7792 - loss: 0.6494\n",
            "Epoch 27: val_accuracy did not improve from 0.73520\n",
            "\u001b[1m352/352\u001b[0m \u001b[32m━━━━━━━━━━━━━━━━━━━━\u001b[0m\u001b[37m\u001b[0m \u001b[1m11s\u001b[0m 30ms/step - accuracy: 0.7791 - loss: 0.6494 - val_accuracy: 0.7208 - val_loss: 0.8477\n",
            "Epoch 28/40\n",
            "\u001b[1m351/352\u001b[0m \u001b[32m━━━━━━━━━━━━━━━━━━━\u001b[0m\u001b[37m━\u001b[0m \u001b[1m0s\u001b[0m 29ms/step - accuracy: 0.7827 - loss: 0.6385\n",
            "Epoch 28: val_accuracy did not improve from 0.73520\n",
            "\u001b[1m352/352\u001b[0m \u001b[32m━━━━━━━━━━━━━━━━━━━━\u001b[0m\u001b[37m\u001b[0m \u001b[1m11s\u001b[0m 30ms/step - accuracy: 0.7827 - loss: 0.6385 - val_accuracy: 0.7312 - val_loss: 0.8360\n",
            "Epoch 29/40\n",
            "\u001b[1m351/352\u001b[0m \u001b[32m━━━━━━━━━━━━━━━━━━━\u001b[0m\u001b[37m━\u001b[0m \u001b[1m0s\u001b[0m 29ms/step - accuracy: 0.7923 - loss: 0.6271\n",
            "Epoch 29: val_accuracy did not improve from 0.73520\n",
            "\u001b[1m352/352\u001b[0m \u001b[32m━━━━━━━━━━━━━━━━━━━━\u001b[0m\u001b[37m\u001b[0m \u001b[1m11s\u001b[0m 30ms/step - accuracy: 0.7922 - loss: 0.6272 - val_accuracy: 0.7320 - val_loss: 0.8444\n",
            "Epoch 30/40\n",
            "\u001b[1m351/352\u001b[0m \u001b[32m━━━━━━━━━━━━━━━━━━━\u001b[0m\u001b[37m━\u001b[0m \u001b[1m0s\u001b[0m 30ms/step - accuracy: 0.7859 - loss: 0.6404\n",
            "Epoch 30: val_accuracy did not improve from 0.73520\n",
            "\u001b[1m352/352\u001b[0m \u001b[32m━━━━━━━━━━━━━━━━━━━━\u001b[0m\u001b[37m\u001b[0m \u001b[1m11s\u001b[0m 31ms/step - accuracy: 0.7859 - loss: 0.6404 - val_accuracy: 0.7232 - val_loss: 0.8691\n",
            "Epoch 31/40\n",
            "\u001b[1m350/352\u001b[0m \u001b[32m━━━━━━━━━━━━━━━━━━━\u001b[0m\u001b[37m━\u001b[0m \u001b[1m0s\u001b[0m 28ms/step - accuracy: 0.7726 - loss: 0.6564\n",
            "Epoch 31: val_accuracy did not improve from 0.73520\n",
            "\u001b[1m352/352\u001b[0m \u001b[32m━━━━━━━━━━━━━━━━━━━━\u001b[0m\u001b[37m\u001b[0m \u001b[1m10s\u001b[0m 30ms/step - accuracy: 0.7727 - loss: 0.6563 - val_accuracy: 0.7296 - val_loss: 0.8403\n",
            "Epoch 32/40\n",
            "\u001b[1m351/352\u001b[0m \u001b[32m━━━━━━━━━━━━━━━━━━━\u001b[0m\u001b[37m━\u001b[0m \u001b[1m0s\u001b[0m 29ms/step - accuracy: 0.7832 - loss: 0.6417\n",
            "Epoch 32: val_accuracy did not improve from 0.73520\n",
            "\u001b[1m352/352\u001b[0m \u001b[32m━━━━━━━━━━━━━━━━━━━━\u001b[0m\u001b[37m\u001b[0m \u001b[1m11s\u001b[0m 30ms/step - accuracy: 0.7832 - loss: 0.6417 - val_accuracy: 0.7248 - val_loss: 0.9139\n",
            "Epoch 33/40\n",
            "\u001b[1m352/352\u001b[0m \u001b[32m━━━━━━━━━━━━━━━━━━━━\u001b[0m\u001b[37m\u001b[0m \u001b[1m0s\u001b[0m 29ms/step - accuracy: 0.7862 - loss: 0.6293\n",
            "Epoch 33: val_accuracy did not improve from 0.73520\n",
            "\u001b[1m352/352\u001b[0m \u001b[32m━━━━━━━━━━━━━━━━━━━━\u001b[0m\u001b[37m\u001b[0m \u001b[1m11s\u001b[0m 30ms/step - accuracy: 0.7862 - loss: 0.6293 - val_accuracy: 0.7264 - val_loss: 0.8448\n",
            "Epoch 34/40\n",
            "\u001b[1m351/352\u001b[0m \u001b[32m━━━━━━━━━━━━━━━━━━━\u001b[0m\u001b[37m━\u001b[0m \u001b[1m0s\u001b[0m 29ms/step - accuracy: 0.7851 - loss: 0.6337\n",
            "Epoch 34: val_accuracy did not improve from 0.73520\n",
            "\u001b[1m352/352\u001b[0m \u001b[32m━━━━━━━━━━━━━━━━━━━━\u001b[0m\u001b[37m\u001b[0m \u001b[1m11s\u001b[0m 30ms/step - accuracy: 0.7851 - loss: 0.6337 - val_accuracy: 0.7264 - val_loss: 0.8629\n",
            "Epoch 35/40\n",
            "\u001b[1m352/352\u001b[0m \u001b[32m━━━━━━━━━━━━━━━━━━━━\u001b[0m\u001b[37m\u001b[0m \u001b[1m0s\u001b[0m 29ms/step - accuracy: 0.7941 - loss: 0.6210\n",
            "Epoch 35: val_accuracy did not improve from 0.73520\n",
            "\u001b[1m352/352\u001b[0m \u001b[32m━━━━━━━━━━━━━━━━━━━━\u001b[0m\u001b[37m\u001b[0m \u001b[1m11s\u001b[0m 30ms/step - accuracy: 0.7941 - loss: 0.6210 - val_accuracy: 0.7224 - val_loss: 0.8818\n",
            "Epoch 36/40\n",
            "\u001b[1m351/352\u001b[0m \u001b[32m━━━━━━━━━━━━━━━━━━━\u001b[0m\u001b[37m━\u001b[0m \u001b[1m0s\u001b[0m 30ms/step - accuracy: 0.7918 - loss: 0.6287\n",
            "Epoch 36: val_accuracy did not improve from 0.73520\n",
            "\u001b[1m352/352\u001b[0m \u001b[32m━━━━━━━━━━━━━━━━━━━━\u001b[0m\u001b[37m\u001b[0m \u001b[1m11s\u001b[0m 31ms/step - accuracy: 0.7918 - loss: 0.6288 - val_accuracy: 0.7168 - val_loss: 0.8761\n",
            "Epoch 37/40\n",
            "\u001b[1m350/352\u001b[0m \u001b[32m━━━━━━━━━━━━━━━━━━━\u001b[0m\u001b[37m━\u001b[0m \u001b[1m0s\u001b[0m 31ms/step - accuracy: 0.7886 - loss: 0.6261\n",
            "Epoch 37: val_accuracy did not improve from 0.73520\n",
            "\u001b[1m352/352\u001b[0m \u001b[32m━━━━━━━━━━━━━━━━━━━━\u001b[0m\u001b[37m\u001b[0m \u001b[1m11s\u001b[0m 32ms/step - accuracy: 0.7886 - loss: 0.6262 - val_accuracy: 0.7272 - val_loss: 0.9023\n",
            "Epoch 38/40\n",
            "\u001b[1m351/352\u001b[0m \u001b[32m━━━━━━━━━━━━━━━━━━━\u001b[0m\u001b[37m━\u001b[0m \u001b[1m0s\u001b[0m 46ms/step - accuracy: 0.7812 - loss: 0.6482\n",
            "Epoch 38: val_accuracy did not improve from 0.73520\n",
            "\u001b[1m352/352\u001b[0m \u001b[32m━━━━━━━━━━━━━━━━━━━━\u001b[0m\u001b[37m\u001b[0m \u001b[1m17s\u001b[0m 47ms/step - accuracy: 0.7812 - loss: 0.6481 - val_accuracy: 0.7288 - val_loss: 0.8705\n",
            "Epoch 39/40\n",
            "\u001b[1m351/352\u001b[0m \u001b[32m━━━━━━━━━━━━━━━━━━━\u001b[0m\u001b[37m━\u001b[0m \u001b[1m0s\u001b[0m 38ms/step - accuracy: 0.7889 - loss: 0.6220\n",
            "Epoch 39: val_accuracy did not improve from 0.73520\n",
            "\u001b[1m352/352\u001b[0m \u001b[32m━━━━━━━━━━━━━━━━━━━━\u001b[0m\u001b[37m\u001b[0m \u001b[1m14s\u001b[0m 40ms/step - accuracy: 0.7889 - loss: 0.6221 - val_accuracy: 0.7296 - val_loss: 0.8606\n",
            "Epoch 40/40\n",
            "\u001b[1m351/352\u001b[0m \u001b[32m━━━━━━━━━━━━━━━━━━━\u001b[0m\u001b[37m━\u001b[0m \u001b[1m0s\u001b[0m 47ms/step - accuracy: 0.7873 - loss: 0.6265\n",
            "Epoch 40: val_accuracy did not improve from 0.73520\n",
            "\u001b[1m352/352\u001b[0m \u001b[32m━━━━━━━━━━━━━━━━━━━━\u001b[0m\u001b[37m\u001b[0m \u001b[1m17s\u001b[0m 49ms/step - accuracy: 0.7873 - loss: 0.6265 - val_accuracy: 0.7200 - val_loss: 0.9231\n"
          ]
        }
      ],
      "source": [
        "model_history = model.fit([padded_docs_headline_train,padded_docs_body_train],labels_train,epochs=40,shuffle=True,verbose=1,\n",
        "                          validation_data=([padded_docs_headline_test,padded_docs_body_test],labels_test),\n",
        "                                          callbacks=[checkpoint])"
      ]
    },
    {
      "cell_type": "markdown",
      "metadata": {
        "id": "r9r2n3xfb1lc"
      },
      "source": [
        "## Model Training History"
      ]
    },
    {
      "cell_type": "code",
      "execution_count": 52,
      "metadata": {
        "id": "DhsvCT19b1lc",
        "trusted": true
      },
      "outputs": [
        {
          "data": {
            "image/png": "[encoded data removed]",
            "text/plain": [
              "<Figure size 1200x1200 with 2 Axes>"
            ]
          },
          "metadata": {},
          "output_type": "display_data"
        }
      ],
      "source": [
        "fig, (ax1, ax2) = plt.subplots(2, 1, figsize=(12, 12))\n",
        "ax1.plot(model_history.history['loss'], color='b', label=\"Training loss\")\n",
        "ax1.plot(model_history.history['val_loss'], color='r', label=\"validation loss\")\n",
        "ax1.set_xticks(np.arange(1, 40, 1))\n",
        "ax1.set_yticks(np.arange(0, 1, 0.1))\n",
        "\n",
        "ax2.plot(model_history.history['accuracy'], color='b', label=\"Training accuracy\")\n",
        "ax2.plot(model_history.history['val_accuracy'], color='r',label=\"Validation accuracy\")\n",
        "ax2.set_xticks(np.arange(1, 40, 1))\n",
        "\n",
        "legend = plt.legend(loc='best', shadow=True)\n",
        "plt.tight_layout()\n",
        "plt.show()"
      ]
    },
    {
      "cell_type": "code",
      "execution_count": null,
      "metadata": {
        "id": "p_okXSmFb1lc"
      },
      "outputs": [],
      "source": []
    }
  ],
  "metadata": {
    "colab": {
      "name": "Glove+LSTM  95.08% Acc",
      "provenance": []
    },
    "kernelspec": {
      "display_name": "Python 3",
      "language": "python",
      "name": "python3"
    },
    "language_info": {
      "codemirror_mode": {
        "name": "ipython",
        "version": 3
      },
      "file_extension": ".py",
      "mimetype": "text/x-python",
      "name": "python",
      "nbconvert_exporter": "python",
      "pygments_lexer": "ipython3",
      "version": "3.10.0"
    }
  },
  "nbformat": 4,
  "nbformat_minor": 0
}
