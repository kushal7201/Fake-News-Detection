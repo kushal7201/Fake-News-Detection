{
  "cells": [
    {
      "cell_type": "code",
      "execution_count": 1,
      "metadata": {},
      "outputs": [
        {
          "name": "stdout",
          "output_type": "stream",
          "text": [
            "TensorFlow version: 2.17.0\n"
          ]
        }
      ],
      "source": [
        "import tensorflow as tf\n",
        "print(\"TensorFlow version:\", tf.__version__)"
      ]
    },
    {
      "cell_type": "code",
      "execution_count": 2,
      "metadata": {},
      "outputs": [
        {
          "name": "stdout",
          "output_type": "stream",
          "text": [
            "Num GPUs Available:  0\n"
          ]
        }
      ],
      "source": [
        "print(\"Num GPUs Available: \", len(tf.config.list_physical_devices('GPU')))"
      ]
    },
    {
      "cell_type": "code",
      "execution_count": 3,
      "metadata": {
        "id": "E02sBfQBb1k6"
      },
      "outputs": [
        {
          "name": "stdout",
          "output_type": "stream",
          "text": [
            "Symbolic links are not supported without admin privileges on Windows. Skipping symlink creation.\n",
            "Downloading glove50d, 70948798 bytes compressed\n",
            "[==================================================] 70948798 bytes downloaded\n",
            "Downloaded and uncompressed: glove50d\n",
            "Downloading fake-news-challenge, 5340415 bytes compressed\n",
            "[==================================================] 5340415 bytes downloaded\n",
            "Downloaded and uncompressed: fake-news-challenge\n",
            "Data source import complete.\n"
          ]
        }
      ],
      "source": [
        "import os\n",
        "import sys\n",
        "import platform\n",
        "from tempfile import NamedTemporaryFile\n",
        "from urllib.request import urlopen\n",
        "from urllib.parse import unquote, urlparse\n",
        "from urllib.error import HTTPError\n",
        "from zipfile import ZipFile\n",
        "import tarfile\n",
        "import shutil\n",
        "\n",
        "CHUNK_SIZE = 40960\n",
        "DATA_SOURCE_MAPPING = 'glove50d:https%3A%2F%2Fstorage.googleapis.com%2Fkaggle-data-sets%2F911310%2F1544853%2Fbundle%2Farchive.zip%3FX-Goog-Algorithm%3DGOOG4-RSA-SHA256%26X-Goog-Credential%3Dgcp-kaggle-com%2540kaggle-161607.iam.gserviceaccount.com%252F20240907%252Fauto%252Fstorage%252Fgoog4_request%26X-Goog-Date%3D20240907T170146Z%26X-Goog-Expires%3D259200%26X-Goog-SignedHeaders%3Dhost%26X-Goog-Signature%3D24743ef0d8c855b54c7ca73108048c6094cd8f39b8edf2a4663f0b50ddfe5e4a97bc672766ff2353fa1fe61a1274661744316ae8674ae4bbd9c5aaf49b00f558658f39c6223649cd8edaa2a90b53207063cc40167c86f66875116ffcc658615cd06f4d8459ccc993e2871e7995ada0b9a9a7fa5b90b8050c39ed043786df1e7777f52b323e74e27c1415853dab951200f712c6d9b8f771b3e7bb44b6c068ed32bf6ca0b11201995f1723c51ff1ffdf312c15b761bb04868171f85c36d0d13a955782a93741591faf59a98e682690a600934a54294b7e2dfd85e8dac9240ca0e9850ea6af80eacb76c52f35e4e83ae0324ed2ed836148da54137a41c350837fd7,fake-news-challenge:https%3A%2F%2Fstorage.googleapis.com%2Fkaggle-data-sets%2F1249857%2F2084561%2Fbundle%2Farchive.zip%3FX-Goog-Algorithm%3DGOOG4-RSA-SHA256%26X-Goog-Credential%3Dgcp-kaggle-com%2540kaggle-161607.iam.gserviceaccount.com%252F20240907%252Fauto%252Fstorage%252Fgoog4_request%26X-Goog-Date%3D20240907T170146Z%26X-Goog-Expires%3D259200%26X-Goog-SignedHeaders%3Dhost%26X-Goog-Signature%3D08fe71600e5dabff5bfaebb31f72e5bd4b7b03a9083390fc3b304dc7d90c70422b7440a46a4a0457b9ec725f0d749e2d3483a6f59093e61379227a28d9ebbe41af8f46d7497fa5dd9de172becdcff0b2611a0e53dc0d73eaa9f7382ae60468a7ac5d0b1208702b33b99cbc96ac0839fc32db638d4fd3ef2df44faf90e9a6cc8b5580430997e516fb0d50fbd5e6a2982226861168e9dc36938b6300383531481e15dfdd2ba7e8112fdabfd12a7bac9037d76a0708fd3a18485b286bce1e4c2bb2149026df4c970fb2eb7696909ae5edd9d2aa231ad68f189ea68475e52554ef9192eecfbd8fa196bda6385017c18ca685d7486ff0c42cd63ec9308a0c41bad439'\n",
        "\n",
        "KAGGLE_INPUT_PATH = '/kaggle/input'\n",
        "KAGGLE_WORKING_PATH = '/kaggle/working'\n",
        "KAGGLE_SYMLINK = 'kaggle'\n",
        "\n",
        "# Removing any pre-existing mount points\n",
        "shutil.rmtree('/kaggle/input', ignore_errors=True)\n",
        "os.makedirs(KAGGLE_INPUT_PATH, 0o777, exist_ok=True)\n",
        "os.makedirs(KAGGLE_WORKING_PATH, 0o777, exist_ok=True)\n",
        "\n",
        "# Platform-specific handling for symbolic links\n",
        "if platform.system() == 'Windows':\n",
        "    print(\"Symbolic links are not supported without admin privileges on Windows. Skipping symlink creation.\")\n",
        "else:\n",
        "    try:\n",
        "        os.symlink(KAGGLE_INPUT_PATH, os.path.join(\"..\", 'input'), target_is_directory=True)\n",
        "    except FileExistsError:\n",
        "        pass\n",
        "    try:\n",
        "        os.symlink(KAGGLE_WORKING_PATH, os.path.join(\"..\", 'working'), target_is_directory=True)\n",
        "    except FileExistsError:\n",
        "        pass\n",
        "\n",
        "# Download and extract data\n",
        "for data_source_mapping in DATA_SOURCE_MAPPING.split(','):\n",
        "    directory, download_url_encoded = data_source_mapping.split(':')\n",
        "    download_url = unquote(download_url_encoded)\n",
        "    filename = urlparse(download_url).path\n",
        "    destination_path = os.path.join(KAGGLE_INPUT_PATH, directory)\n",
        "    \n",
        "    try:\n",
        "        with urlopen(download_url) as fileres, NamedTemporaryFile() as tfile:\n",
        "            total_length = fileres.headers['content-length']\n",
        "            print(f'Downloading {directory}, {total_length} bytes compressed')\n",
        "            dl = 0\n",
        "            data = fileres.read(CHUNK_SIZE)\n",
        "            \n",
        "            while len(data) > 0:\n",
        "                dl += len(data)\n",
        "                tfile.write(data)\n",
        "                done = int(50 * dl / int(total_length))\n",
        "                sys.stdout.write(f\"\\r[{'=' * done}{' ' * (50 - done)}] {dl} bytes downloaded\")\n",
        "                sys.stdout.flush()\n",
        "                data = fileres.read(CHUNK_SIZE)\n",
        "                \n",
        "            # Extract the downloaded archive\n",
        "            if filename.endswith('.zip'):\n",
        "                with ZipFile(tfile) as zfile:\n",
        "                    zfile.extractall(destination_path)\n",
        "            else:\n",
        "                with tarfile.open(tfile.name) as tarfile:\n",
        "                    tarfile.extractall(destination_path)\n",
        "                    \n",
        "            print(f'\\nDownloaded and uncompressed: {directory}')\n",
        "    \n",
        "    except HTTPError as e:\n",
        "        print(f'Failed to load (likely expired) {download_url} to path {destination_path}')\n",
        "        continue\n",
        "    except OSError as e:\n",
        "        print(f'Failed to load {download_url} to path {destination_path}')\n",
        "        continue\n",
        "\n",
        "print('Data source import complete.')\n"
      ]
    },
    {
      "cell_type": "markdown",
      "metadata": {
        "id": "K_B7jvIjb1lE"
      },
      "source": [
        "# Problem Statement"
      ]
    },
    {
      "cell_type": "markdown",
      "metadata": {
        "id": "-ihEQUwsb1lH"
      },
      "source": [
        "1. We are given a dataset consisting of two csv files train_bodies.csv which contains the set of news articles bodies,while train-stances.csv resembles the articles for each of these bodies being identified using the body id.\n",
        "\n",
        "2. After training from these samples we need to detect whether the given headline agrees,disagrees,discusses,unrelated with the body id\n"
      ]
    },
    {
      "cell_type": "markdown",
      "metadata": {
        "id": "IK5fNhcdb1lJ"
      },
      "source": [
        "## Importing Libraries"
      ]
    },
    {
      "cell_type": "code",
      "execution_count": 4,
      "metadata": {
        "id": "2wArZWkJb1lK",
        "trusted": true
      },
      "outputs": [],
      "source": [
        "import pandas as pd\n",
        "import numpy as np\n",
        "import os\n",
        "import matplotlib.pyplot as plt\n",
        "\n",
        "from tensorflow.keras.preprocessing.sequence import pad_sequences\n",
        "from tensorflow.keras.preprocessing.text import Tokenizer, one_hot\n",
        "from tensorflow.keras.utils import to_categorical, plot_model\n",
        "\n",
        "from tensorflow.keras import Model, Sequential\n",
        "from tensorflow.keras.layers import LSTM, Embedding, Dropout, Activation, Reshape, Dense, GRU, Add, Flatten, concatenate, Bidirectional, Input\n",
        "\n",
        "from tensorflow.keras.layers import LSTM, Embedding, Dropout, Activation, Reshape, Dense, GRU, Add, Flatten, concatenate, Bidirectional\n",
        "\n",
        "from tensorflow.keras.callbacks import ModelCheckpoint\n"
      ]
    },
    {
      "cell_type": "markdown",
      "metadata": {
        "id": "fNd8m70cb1lL"
      },
      "source": [
        "# Dataset understanding\n",
        "The train_bodies contain the entries for the body id and associated article Body\n",
        "The train_stances contain the entries for the headlines associated with the particular body id and its labelled stance\n",
        "One body present in train_bodies can have multiple associated headlines present in train_stances and it's corresponding stance label\n",
        "1683 :- Number of article Body present\n",
        "49972 number of total headlines present for the 1683 different article body"
      ]
    },
    {
      "cell_type": "markdown",
      "metadata": {
        "id": "XYm3QMfXb1lM"
      },
      "source": [
        "## Dataset Preparation\n",
        "\n",
        "**train_bodies.csv** contains body id and article body for training  \n",
        "**train_stances.csv** contains headlines corresponding to body id and associated labelled stance with it\n"
      ]
    },
    {
      "cell_type": "code",
      "execution_count": 5,
      "metadata": {
        "id": "9eLPtsg0b1lO",
        "scrolled": true,
        "trusted": true
      },
      "outputs": [],
      "source": [
        "DATASET_PATH = \"./fake/\"\n",
        "\n",
        "train_bodies = pd.read_csv(os.path.join(DATASET_PATH,'train_bodies.csv'))\n",
        "# train_bodies.head()\n",
        "train_stance = pd.read_csv(os.path.join(DATASET_PATH,'train_stances.csv'))"
      ]
    },
    {
      "cell_type": "code",
      "execution_count": 6,
      "metadata": {},
      "outputs": [],
      "source": [
        "# !pip install tqdm"
      ]
    },
    {
      "cell_type": "markdown",
      "metadata": {
        "id": "oPwSGCfRb1lP"
      },
      "source": [
        "# Combining the CSV\n",
        "\n",
        "I am preparing a final csv in each row will correspond to a unique entry\n",
        "i.e each row will correspond to a unique combination of headline,bodyid and article body\n",
        "\n",
        "The above is needed for making simplicity in further data preparation steps we need to execute\n"
      ]
    },
    {
      "cell_type": "code",
      "execution_count": 7,
      "metadata": {},
      "outputs": [],
      "source": [
        "# !pip install tqdm\n",
        "# !pip show tqdm\n",
        "# !pip install tqdm\n",
        "\n"
      ]
    },
    {
      "cell_type": "code",
      "execution_count": 8,
      "metadata": {},
      "outputs": [
        {
          "name": "stdout",
          "output_type": "stream",
          "text": [
            "g:\\PROJECTS\\MINI_PROJECT\\Github\\venv\\Scripts\\python.exe\n"
          ]
        }
      ],
      "source": [
        "import sys\n",
        "print(sys.executable)\n"
      ]
    },
    {
      "cell_type": "code",
      "execution_count": 9,
      "metadata": {
        "id": "xCUeX57gb1lQ",
        "trusted": true
      },
      "outputs": [
        {
          "name": "stdout",
          "output_type": "stream",
          "text": [
            "Processing row 0/12493\n",
            "Processing row 100/12493\n",
            "Processing row 200/12493\n",
            "Processing row 300/12493\n",
            "Processing row 400/12493\n",
            "Processing row 500/12493\n",
            "Processing row 600/12493\n",
            "Processing row 700/12493\n",
            "Processing row 800/12493\n",
            "Processing row 900/12493\n",
            "Processing row 1000/12493\n",
            "Processing row 1100/12493\n",
            "Processing row 1200/12493\n",
            "Processing row 1300/12493\n",
            "Processing row 1400/12493\n",
            "Processing row 1500/12493\n",
            "Processing row 1600/12493\n",
            "Processing row 1700/12493\n",
            "Processing row 1800/12493\n",
            "Processing row 1900/12493\n",
            "Processing row 2000/12493\n",
            "Processing row 2100/12493\n",
            "Processing row 2200/12493\n",
            "Processing row 2300/12493\n",
            "Processing row 2400/12493\n",
            "Processing row 2500/12493\n",
            "Processing row 2600/12493\n",
            "Processing row 2700/12493\n",
            "Processing row 2800/12493\n",
            "Processing row 2900/12493\n",
            "Processing row 3000/12493\n",
            "Processing row 3100/12493\n",
            "Processing row 3200/12493\n",
            "Processing row 3300/12493\n",
            "Processing row 3400/12493\n",
            "Processing row 3500/12493\n",
            "Processing row 3600/12493\n",
            "Processing row 3700/12493\n",
            "Processing row 3800/12493\n",
            "Processing row 3900/12493\n",
            "Processing row 4000/12493\n",
            "Processing row 4100/12493\n",
            "Processing row 4200/12493\n",
            "Processing row 4300/12493\n",
            "Processing row 4400/12493\n",
            "Processing row 4500/12493\n",
            "Processing row 4600/12493\n",
            "Processing row 4700/12493\n",
            "Processing row 4800/12493\n",
            "Processing row 4900/12493\n",
            "Processing row 5000/12493\n",
            "Processing row 5100/12493\n",
            "Processing row 5200/12493\n",
            "Processing row 5300/12493\n",
            "Processing row 5400/12493\n",
            "Processing row 5500/12493\n",
            "Processing row 5600/12493\n",
            "Processing row 5700/12493\n",
            "Processing row 5800/12493\n",
            "Processing row 5900/12493\n",
            "Processing row 6000/12493\n",
            "Processing row 6100/12493\n",
            "Processing row 6200/12493\n",
            "Processing row 6300/12493\n",
            "Processing row 6400/12493\n",
            "Processing row 6500/12493\n",
            "Processing row 6600/12493\n",
            "Processing row 6700/12493\n",
            "Processing row 6800/12493\n",
            "Processing row 6900/12493\n",
            "Processing row 7000/12493\n",
            "Processing row 7100/12493\n",
            "Processing row 7200/12493\n",
            "Processing row 7300/12493\n",
            "Processing row 7400/12493\n",
            "Processing row 7500/12493\n",
            "Processing row 7600/12493\n",
            "Processing row 7700/12493\n",
            "Processing row 7800/12493\n",
            "Processing row 7900/12493\n",
            "Processing row 8000/12493\n",
            "Processing row 8100/12493\n",
            "Processing row 8200/12493\n",
            "Processing row 8300/12493\n",
            "Processing row 8400/12493\n",
            "Processing row 8500/12493\n",
            "Processing row 8600/12493\n",
            "Processing row 8700/12493\n",
            "Processing row 8800/12493\n",
            "Processing row 8900/12493\n",
            "Processing row 9000/12493\n",
            "Processing row 9100/12493\n",
            "Processing row 9200/12493\n",
            "Processing row 9300/12493\n",
            "Processing row 9400/12493\n",
            "Processing row 9500/12493\n",
            "Processing row 9600/12493\n",
            "Processing row 9700/12493\n",
            "Processing row 9800/12493\n",
            "Processing row 9900/12493\n",
            "Processing row 10000/12493\n",
            "Processing row 10100/12493\n",
            "Processing row 10200/12493\n",
            "Processing row 10300/12493\n",
            "Processing row 10400/12493\n",
            "Processing row 10500/12493\n",
            "Processing row 10600/12493\n",
            "Processing row 10700/12493\n",
            "Processing row 10800/12493\n",
            "Processing row 10900/12493\n",
            "Processing row 11000/12493\n",
            "Processing row 11100/12493\n",
            "Processing row 11200/12493\n",
            "Processing row 11300/12493\n",
            "Processing row 11400/12493\n",
            "Processing row 11500/12493\n",
            "Processing row 11600/12493\n",
            "Processing row 11700/12493\n",
            "Processing row 11800/12493\n",
            "Processing row 11900/12493\n",
            "Processing row 12000/12493\n",
            "Processing row 12100/12493\n",
            "Processing row 12200/12493\n",
            "Processing row 12300/12493\n",
            "Processing row 12400/12493\n"
          ]
        }
      ],
      "source": [
        "import os\n",
        "import pandas as pd\n",
        "\n",
        "# Load the full DataFrames (replace with your actual loading code)\n",
        "# train_stance = pd.read_csv('train_stance.csv')\n",
        "# train_bodies = pd.read_csv('train_bodies.csv')\n",
        "\n",
        "# Select 25% of the rows\n",
        "train_stance_subset = train_stance.sample(frac=0.25, random_state=1).reset_index(drop=True)\n",
        "train_bodies_subset = train_bodies.sample(frac=0.25, random_state=1).reset_index(drop=True)\n",
        "\n",
        "# Initialize the 'articleBody' column in train_stance_subset\n",
        "train_stance_subset['articleBody'] = None\n",
        "\n",
        "# Merge process for the subset\n",
        "for i in range(train_stance_subset.shape[0]):\n",
        "    if i % 100 == 0:  # Print progress every 100 iterations\n",
        "        print(f'Processing row {i}/{train_stance_subset.shape[0]}')\n",
        "    for j in range(train_bodies_subset.shape[0]):\n",
        "        if train_bodies_subset.loc[j, 'Body ID'] == train_stance_subset.loc[i, 'Body ID']:\n",
        "            train_stance_subset.loc[i, 'articleBody'] = train_bodies_subset.loc[j, 'articleBody']\n",
        "\n",
        "# Save the merged subset DataFrame to a new CSV file\n",
        "train_stance_subset.to_csv(os.path.join(os.getcwd(), 'data_combined_subset.csv'), index=False)\n"
      ]
    },
    {
      "cell_type": "code",
      "execution_count": 10,
      "metadata": {
        "id": "NtKpIAQcb1lR",
        "scrolled": true,
        "trusted": true
      },
      "outputs": [
        {
          "name": "stdout",
          "output_type": "stream",
          "text": [
            "                                            Headline  Body ID     Stance  \\\n",
            "0  Report: Amazon to Launch Ad-Supported Streamin...     1071  unrelated   \n",
            "1  That Boko Haram Ceasefire in Nigeria Isn’t A C...       35  unrelated   \n",
            "2  High School Student Rumored to Have Made $72 M...     1024  unrelated   \n",
            "3  Al-Shabaab co-founder confirmed killed by US a...      646  unrelated   \n",
            "4  Confusion swirls, details murky in arrest of I...     2337    discuss   \n",
            "\n",
            "                                         articleBody  \n",
            "0                                                NaN  \n",
            "1                                                NaN  \n",
            "2  A 10-year-old member of the ISIS terror group ...  \n",
            "3  The mystery surrounding the disappearance of 4...  \n",
            "4                                                NaN  \n"
          ]
        }
      ],
      "source": [
        "import pandas as pd\n",
        "import os\n",
        "\n",
        "# Load the combined data\n",
        "data = pd.read_csv(os.path.join(os.getcwd(), 'data_combined_subset.csv'))\n",
        "\n",
        "# Display the first few rows of the DataFrame\n",
        "print(data.head())\n"
      ]
    },
    {
      "cell_type": "code",
      "execution_count": 11,
      "metadata": {
        "id": "zTYKAkakb1lS",
        "trusted": true
      },
      "outputs": [
        {
          "data": {
            "text/plain": [
              "Stance\n",
              "unrelated    9079\n",
              "discuss      2269\n",
              "agree         923\n",
              "disagree      222\n",
              "Name: count, dtype: int64"
            ]
          },
          "execution_count": 11,
          "metadata": {},
          "output_type": "execute_result"
        }
      ],
      "source": [
        "data['stance_cat'] = data['Stance'].map({'agree':0,'disagree':1,'discuss':2,'unrelated':3}).astype(int)\n",
        "data['Stance'].value_counts()"
      ]
    },
    {
      "cell_type": "code",
      "execution_count": 12,
      "metadata": {
        "id": "9HlmD8RTb1lT",
        "scrolled": true,
        "trusted": true
      },
      "outputs": [
        {
          "name": "stdout",
          "output_type": "stream",
          "text": [
            "24986\n",
            "24986\n",
            "Vocabulary Length is 26719\n"
          ]
        }
      ],
      "source": [
        "import numpy as np\n",
        "import pandas as pd\n",
        "\n",
        "# Load the subset data\n",
        "data = pd.read_csv(os.path.join(os.getcwd(), 'data_combined_subset.csv'))\n",
        "\n",
        "# Fill missing values with an empty string\n",
        "data['Headline'] = data['Headline'].fillna('')\n",
        "data['articleBody'] = data['articleBody'].fillna('')\n",
        "\n",
        "# Combine Headline and Article Body into one corpus\n",
        "corpus = np.r_[data['Headline'].values, data['articleBody'].values]\n",
        "\n",
        "# Print the expected length and actual length of the corpus\n",
        "expected_length = 2 * len(data)  # Since we have two columns, Headline and articleBody\n",
        "print(expected_length)\n",
        "print(len(corpus))  # Actual length of the corpus\n",
        "\n",
        "# Create a vocabulary list\n",
        "vocabulary = []\n",
        "for sentence in corpus:\n",
        "    if isinstance(sentence, str):  # Check if the value is a string\n",
        "        vocabulary.extend(sentence.split(' '))\n",
        "\n",
        "# Remove duplicates and calculate vocabulary length\n",
        "vocabulary = list(set(vocabulary))\n",
        "vocab_length = len(vocabulary)\n",
        "print(\"Vocabulary Length is {0}\".format(vocab_length))\n"
      ]
    },
    {
      "cell_type": "markdown",
      "metadata": {
        "id": "XAOf2a-qb1lT"
      },
      "source": [
        "## Model Training Parameters"
      ]
    },
    {
      "cell_type": "code",
      "execution_count": 13,
      "metadata": {
        "id": "fF0YSiLtb1lU",
        "trusted": true
      },
      "outputs": [],
      "source": [
        "# max_features = 5000\n",
        "# MAX_NB_WORDS = 24000\n",
        "# EMBEDDING_DIM = 50\n",
        "# MAX_SEQUENCE_LENGTH = 64\n",
        "\n",
        "max_features = 2000  # Reduced number of unique words\n",
        "MAX_NB_WORDS = 5000  # Reduced vocabulary size\n",
        "EMBEDDING_DIM = 50  # Typically remains the same\n",
        "MAX_SEQUENCE_LENGTH = 50  # Adjust based on the average length of texts in the subset\n"
      ]
    },
    {
      "cell_type": "markdown",
      "metadata": {
        "id": "W5NZx8Mib1lU"
      },
      "source": [
        "## Creating Embedding Matrix For Headline and Body\n",
        "\n",
        "We create Emebdding Matrix for headline and Body to be served as a first layer of Deep learning Model"
      ]
    },
    {
      "cell_type": "code",
      "execution_count": 14,
      "metadata": {
        "id": "DS6MqXjQb1lV",
        "trusted": true
      },
      "outputs": [],
      "source": [
        "GLOVE_DIR = \"./fake/\"\n",
        "def setup_embedding_index():\n",
        "    embedding_index=dict()\n",
        "    f = open(os.path.join(GLOVE_DIR,\"glove.6B.50d.txt\"),encoding='utf-8')\n",
        "    for line in f:\n",
        "        values = line.split()\n",
        "        word = values[0]\n",
        "        coefs = np.array(values[1:],dtype='float32')\n",
        "        embedding_index[word] = coefs\n",
        "    f.close()\n",
        "    return embedding_index\n",
        "embeddings_index = setup_embedding_index()"
      ]
    },
    {
      "cell_type": "markdown",
      "metadata": {
        "id": "Q34I6U5vb1lV"
      },
      "source": [
        "## Padding headline and body\n",
        "\n",
        "We pad the headline into length of 16 as headline is of shorter length and body into length of 48 as observed best performing parameter for body is 48."
      ]
    },
    {
      "cell_type": "code",
      "execution_count": 15,
      "metadata": {
        "id": "Psx0b1Vmb1lW",
        "trusted": true
      },
      "outputs": [
        {
          "name": "stdout",
          "output_type": "stream",
          "text": [
            "3786\n"
          ]
        }
      ],
      "source": [
        "tokenizer_headline = Tokenizer(num_words=max_features, split=' ')\n",
        "tokenizer_headline.fit_on_texts(data.loc[:,'Headline'].values)\n",
        "vocab_headline_length = len(tokenizer_headline.word_index)+1\n",
        "\n",
        "encoded_docs_headline = tokenizer_headline.texts_to_sequences(data.loc[:,'Headline'])\n",
        "padded_docs_headline = pad_sequences(encoded_docs_headline, maxlen=16, padding='post')\n",
        "\n",
        "print(vocab_headline_length)\n",
        "word_index_headline = tokenizer_headline.word_index\n",
        "\n",
        "NUM_WORDS_HEADLINE = vocab_headline_length"
      ]
    },
    {
      "cell_type": "code",
      "execution_count": 16,
      "metadata": {
        "id": "kCocS3NVb1lW",
        "trusted": true
      },
      "outputs": [
        {
          "name": "stdout",
          "output_type": "stream",
          "text": [
            "13680\n",
            "13680\n"
          ]
        }
      ],
      "source": [
        "tokenizer_body = Tokenizer(num_words=max_features, split=' ')\n",
        "tokenizer_body.fit_on_texts(data.loc[:,'articleBody'].values)\n",
        "vocab_body_length = len(tokenizer_body.word_index)+1\n",
        "\n",
        "encoded_docs_body = tokenizer_body.texts_to_sequences(data.loc[:,'articleBody'])\n",
        "padded_docs_body = pad_sequences(encoded_docs_body, maxlen=48, padding='post')\n",
        "\n",
        "print(vocab_body_length)\n",
        "word_index_body = tokenizer_body.word_index\n",
        "\n",
        "NUM_WORDS_BODY = vocab_body_length\n",
        "print(NUM_WORDS_BODY)"
      ]
    },
    {
      "cell_type": "code",
      "execution_count": 17,
      "metadata": {
        "id": "grjz75APb1lX",
        "trusted": true
      },
      "outputs": [
        {
          "name": "stdout",
          "output_type": "stream",
          "text": [
            "50\n"
          ]
        }
      ],
      "source": [
        "\n",
        "embedding_matrix_headline = np.zeros((NUM_WORDS_HEADLINE, EMBEDDING_DIM))\n",
        "\n",
        "for word, i in tokenizer_headline.word_index.items():\n",
        "    embedding_vector = embeddings_index.get(word)\n",
        "    if embedding_vector is not None:\n",
        "        embedding_matrix_headline[i] = embedding_vector\n",
        "dims = len(embedding_matrix_headline[0])\n",
        "\n",
        "print(dims)"
      ]
    },
    {
      "cell_type": "code",
      "execution_count": 18,
      "metadata": {
        "id": "b454x_8Bb1lX",
        "trusted": true
      },
      "outputs": [
        {
          "name": "stdout",
          "output_type": "stream",
          "text": [
            "50\n"
          ]
        }
      ],
      "source": [
        "\n",
        "embedding_matrix_body = np.zeros((NUM_WORDS_BODY, EMBEDDING_DIM))\n",
        "\n",
        "for word, i in tokenizer_body.word_index.items():\n",
        "    embedding_vector = embeddings_index.get(word)\n",
        "    if embedding_vector is not None:\n",
        "        embedding_matrix_body[i] = embedding_vector\n",
        "dims = len(embedding_matrix_body[0])\n",
        "\n",
        "print(dims)"
      ]
    },
    {
      "cell_type": "code",
      "execution_count": 19,
      "metadata": {
        "id": "u6fGm8ewb1lX",
        "trusted": true
      },
      "outputs": [
        {
          "name": "stdout",
          "output_type": "stream",
          "text": [
            "(12493, 16)\n",
            "(12493, 48)\n"
          ]
        }
      ],
      "source": [
        "print(padded_docs_headline.shape)\n",
        "print(padded_docs_body.shape)"
      ]
    },
    {
      "cell_type": "markdown",
      "metadata": {
        "id": "ee8VO4VDb1lY"
      },
      "source": [
        "## Model Architecture"
      ]
    },
    {
      "cell_type": "code",
      "execution_count": 20,
      "metadata": {
        "id": "Ym9O7jrHb1lY",
        "trusted": true
      },
      "outputs": [
        {
          "name": "stderr",
          "output_type": "stream",
          "text": [
            "g:\\PROJECTS\\MINI_PROJECT\\Github\\venv\\lib\\site-packages\\keras\\src\\layers\\core\\embedding.py:90: UserWarning: Argument `input_length` is deprecated. Just remove it.\n",
            "  warnings.warn(\n"
          ]
        }
      ],
      "source": [
        "input_headline = Input(shape=(16,), name='input_headline')\n",
        "embedding_layer_headline = Embedding(input_dim = vocab_headline_length,output_dim = 50,\n",
        "                                     weights=[embedding_matrix_headline],\n",
        "                                     input_length = 16,trainable=True)(input_headline)\n",
        "\n",
        "# lstm_headline = LSTM(units=16)(e+mbedding_layer_headline)\n",
        "\n",
        "input_body = Input(shape=(48,), name='input_body')\n",
        "\n",
        "embedding_layer_body = Embedding(input_dim = vocab_body_length,output_dim = 50,weights = [embedding_matrix_body],\n",
        "                                 input_length=48,trainable = True)(input_body)\n",
        "lstm_body = LSTM(units=48)(embedding_layer_body)\n",
        "\n",
        "addition_layer = concatenate([embedding_layer_headline,embedding_layer_body],axis=1)\n",
        "\n",
        "# addition_layer = concatenate([lstm_headline,lstm_body],axis=1)\n",
        "lstm = LSTM(units=64,)(addition_layer)\n",
        "drop = Dropout(0.25)(lstm)\n",
        "# dense = Dense(64,activation='relu')(drop)\n",
        "# flatten = Flatten()(addition_layer)\n",
        "\n",
        "output = Dense(4,activation='sigmoid')(drop)\n",
        "\n",
        "model = Model(inputs=[input_headline,input_body],outputs=output)\n",
        "# from keras.optimizers import SGD\n",
        "# sgd = SGD(lr=0.0001, decay=1e-6, momentum=0.9, nesterov=True)\n",
        "\n",
        "# model.compile(loss = \"categorical_crossentropy\", optimizer = sgd,metrics = ['accuracy'])\n",
        "\n",
        "model.compile(optimizer = 'adam',loss ='categorical_crossentropy',metrics = ['accuracy'])\n"
      ]
    },
    {
      "cell_type": "code",
      "execution_count": 21,
      "metadata": {
        "id": "kZo-2riGb1lZ",
        "scrolled": true,
        "trusted": true
      },
      "outputs": [
        {
          "data": {
            "text/html": [
              "<pre style=\"white-space:pre;overflow-x:auto;line-height:normal;font-family:Menlo,'DejaVu Sans Mono',consolas,'Courier New',monospace\"><span style=\"font-weight: bold\">Model: \"functional\"</span>\n",
              "</pre>\n"
            ],
            "text/plain": [
              "\u001b[1mModel: \"functional\"\u001b[0m\n"
            ]
          },
          "metadata": {},
          "output_type": "display_data"
        },
        {
          "data": {
            "text/html": [
              "<pre style=\"white-space:pre;overflow-x:auto;line-height:normal;font-family:Menlo,'DejaVu Sans Mono',consolas,'Courier New',monospace\">┏━━━━━━━━━━━━━━━━━━━━━┳━━━━━━━━━━━━━━━━━━━┳━━━━━━━━━━━━┳━━━━━━━━━━━━━━━━━━━┓\n",
              "┃<span style=\"font-weight: bold\"> Layer (type)        </span>┃<span style=\"font-weight: bold\"> Output Shape      </span>┃<span style=\"font-weight: bold\">    Param # </span>┃<span style=\"font-weight: bold\"> Connected to      </span>┃\n",
              "┡━━━━━━━━━━━━━━━━━━━━━╇━━━━━━━━━━━━━━━━━━━╇━━━━━━━━━━━━╇━━━━━━━━━━━━━━━━━━━┩\n",
              "│ input_headline      │ (<span style=\"color: #00d7ff; text-decoration-color: #00d7ff\">None</span>, <span style=\"color: #00af00; text-decoration-color: #00af00\">16</span>)        │          <span style=\"color: #00af00; text-decoration-color: #00af00\">0</span> │ -                 │\n",
              "│ (<span style=\"color: #0087ff; text-decoration-color: #0087ff\">InputLayer</span>)        │                   │            │                   │\n",
              "├─────────────────────┼───────────────────┼────────────┼───────────────────┤\n",
              "│ input_body          │ (<span style=\"color: #00d7ff; text-decoration-color: #00d7ff\">None</span>, <span style=\"color: #00af00; text-decoration-color: #00af00\">48</span>)        │          <span style=\"color: #00af00; text-decoration-color: #00af00\">0</span> │ -                 │\n",
              "│ (<span style=\"color: #0087ff; text-decoration-color: #0087ff\">InputLayer</span>)        │                   │            │                   │\n",
              "├─────────────────────┼───────────────────┼────────────┼───────────────────┤\n",
              "│ embedding           │ (<span style=\"color: #00d7ff; text-decoration-color: #00d7ff\">None</span>, <span style=\"color: #00af00; text-decoration-color: #00af00\">16</span>, <span style=\"color: #00af00; text-decoration-color: #00af00\">50</span>)    │    <span style=\"color: #00af00; text-decoration-color: #00af00\">189,300</span> │ input_headline[<span style=\"color: #00af00; text-decoration-color: #00af00\">0</span>… │\n",
              "│ (<span style=\"color: #0087ff; text-decoration-color: #0087ff\">Embedding</span>)         │                   │            │                   │\n",
              "├─────────────────────┼───────────────────┼────────────┼───────────────────┤\n",
              "│ embedding_1         │ (<span style=\"color: #00d7ff; text-decoration-color: #00d7ff\">None</span>, <span style=\"color: #00af00; text-decoration-color: #00af00\">48</span>, <span style=\"color: #00af00; text-decoration-color: #00af00\">50</span>)    │    <span style=\"color: #00af00; text-decoration-color: #00af00\">684,000</span> │ input_body[<span style=\"color: #00af00; text-decoration-color: #00af00\">0</span>][<span style=\"color: #00af00; text-decoration-color: #00af00\">0</span>]  │\n",
              "│ (<span style=\"color: #0087ff; text-decoration-color: #0087ff\">Embedding</span>)         │                   │            │                   │\n",
              "├─────────────────────┼───────────────────┼────────────┼───────────────────┤\n",
              "│ concatenate         │ (<span style=\"color: #00d7ff; text-decoration-color: #00d7ff\">None</span>, <span style=\"color: #00af00; text-decoration-color: #00af00\">64</span>, <span style=\"color: #00af00; text-decoration-color: #00af00\">50</span>)    │          <span style=\"color: #00af00; text-decoration-color: #00af00\">0</span> │ embedding[<span style=\"color: #00af00; text-decoration-color: #00af00\">0</span>][<span style=\"color: #00af00; text-decoration-color: #00af00\">0</span>],  │\n",
              "│ (<span style=\"color: #0087ff; text-decoration-color: #0087ff\">Concatenate</span>)       │                   │            │ embedding_1[<span style=\"color: #00af00; text-decoration-color: #00af00\">0</span>][<span style=\"color: #00af00; text-decoration-color: #00af00\">0</span>] │\n",
              "├─────────────────────┼───────────────────┼────────────┼───────────────────┤\n",
              "│ lstm_1 (<span style=\"color: #0087ff; text-decoration-color: #0087ff\">LSTM</span>)       │ (<span style=\"color: #00d7ff; text-decoration-color: #00d7ff\">None</span>, <span style=\"color: #00af00; text-decoration-color: #00af00\">64</span>)        │     <span style=\"color: #00af00; text-decoration-color: #00af00\">29,440</span> │ concatenate[<span style=\"color: #00af00; text-decoration-color: #00af00\">0</span>][<span style=\"color: #00af00; text-decoration-color: #00af00\">0</span>] │\n",
              "├─────────────────────┼───────────────────┼────────────┼───────────────────┤\n",
              "│ dropout (<span style=\"color: #0087ff; text-decoration-color: #0087ff\">Dropout</span>)   │ (<span style=\"color: #00d7ff; text-decoration-color: #00d7ff\">None</span>, <span style=\"color: #00af00; text-decoration-color: #00af00\">64</span>)        │          <span style=\"color: #00af00; text-decoration-color: #00af00\">0</span> │ lstm_1[<span style=\"color: #00af00; text-decoration-color: #00af00\">0</span>][<span style=\"color: #00af00; text-decoration-color: #00af00\">0</span>]      │\n",
              "├─────────────────────┼───────────────────┼────────────┼───────────────────┤\n",
              "│ dense (<span style=\"color: #0087ff; text-decoration-color: #0087ff\">Dense</span>)       │ (<span style=\"color: #00d7ff; text-decoration-color: #00d7ff\">None</span>, <span style=\"color: #00af00; text-decoration-color: #00af00\">4</span>)         │        <span style=\"color: #00af00; text-decoration-color: #00af00\">260</span> │ dropout[<span style=\"color: #00af00; text-decoration-color: #00af00\">0</span>][<span style=\"color: #00af00; text-decoration-color: #00af00\">0</span>]     │\n",
              "└─────────────────────┴───────────────────┴────────────┴───────────────────┘\n",
              "</pre>\n"
            ],
            "text/plain": [
              "┏━━━━━━━━━━━━━━━━━━━━━┳━━━━━━━━━━━━━━━━━━━┳━━━━━━━━━━━━┳━━━━━━━━━━━━━━━━━━━┓\n",
              "┃\u001b[1m \u001b[0m\u001b[1mLayer (type)       \u001b[0m\u001b[1m \u001b[0m┃\u001b[1m \u001b[0m\u001b[1mOutput Shape     \u001b[0m\u001b[1m \u001b[0m┃\u001b[1m \u001b[0m\u001b[1m   Param #\u001b[0m\u001b[1m \u001b[0m┃\u001b[1m \u001b[0m\u001b[1mConnected to     \u001b[0m\u001b[1m \u001b[0m┃\n",
              "┡━━━━━━━━━━━━━━━━━━━━━╇━━━━━━━━━━━━━━━━━━━╇━━━━━━━━━━━━╇━━━━━━━━━━━━━━━━━━━┩\n",
              "│ input_headline      │ (\u001b[38;5;45mNone\u001b[0m, \u001b[38;5;34m16\u001b[0m)        │          \u001b[38;5;34m0\u001b[0m │ -                 │\n",
              "│ (\u001b[38;5;33mInputLayer\u001b[0m)        │                   │            │                   │\n",
              "├─────────────────────┼───────────────────┼────────────┼───────────────────┤\n",
              "│ input_body          │ (\u001b[38;5;45mNone\u001b[0m, \u001b[38;5;34m48\u001b[0m)        │          \u001b[38;5;34m0\u001b[0m │ -                 │\n",
              "│ (\u001b[38;5;33mInputLayer\u001b[0m)        │                   │            │                   │\n",
              "├─────────────────────┼───────────────────┼────────────┼───────────────────┤\n",
              "│ embedding           │ (\u001b[38;5;45mNone\u001b[0m, \u001b[38;5;34m16\u001b[0m, \u001b[38;5;34m50\u001b[0m)    │    \u001b[38;5;34m189,300\u001b[0m │ input_headline[\u001b[38;5;34m0\u001b[0m… │\n",
              "│ (\u001b[38;5;33mEmbedding\u001b[0m)         │                   │            │                   │\n",
              "├─────────────────────┼───────────────────┼────────────┼───────────────────┤\n",
              "│ embedding_1         │ (\u001b[38;5;45mNone\u001b[0m, \u001b[38;5;34m48\u001b[0m, \u001b[38;5;34m50\u001b[0m)    │    \u001b[38;5;34m684,000\u001b[0m │ input_body[\u001b[38;5;34m0\u001b[0m][\u001b[38;5;34m0\u001b[0m]  │\n",
              "│ (\u001b[38;5;33mEmbedding\u001b[0m)         │                   │            │                   │\n",
              "├─────────────────────┼───────────────────┼────────────┼───────────────────┤\n",
              "│ concatenate         │ (\u001b[38;5;45mNone\u001b[0m, \u001b[38;5;34m64\u001b[0m, \u001b[38;5;34m50\u001b[0m)    │          \u001b[38;5;34m0\u001b[0m │ embedding[\u001b[38;5;34m0\u001b[0m][\u001b[38;5;34m0\u001b[0m],  │\n",
              "│ (\u001b[38;5;33mConcatenate\u001b[0m)       │                   │            │ embedding_1[\u001b[38;5;34m0\u001b[0m][\u001b[38;5;34m0\u001b[0m] │\n",
              "├─────────────────────┼───────────────────┼────────────┼───────────────────┤\n",
              "│ lstm_1 (\u001b[38;5;33mLSTM\u001b[0m)       │ (\u001b[38;5;45mNone\u001b[0m, \u001b[38;5;34m64\u001b[0m)        │     \u001b[38;5;34m29,440\u001b[0m │ concatenate[\u001b[38;5;34m0\u001b[0m][\u001b[38;5;34m0\u001b[0m] │\n",
              "├─────────────────────┼───────────────────┼────────────┼───────────────────┤\n",
              "│ dropout (\u001b[38;5;33mDropout\u001b[0m)   │ (\u001b[38;5;45mNone\u001b[0m, \u001b[38;5;34m64\u001b[0m)        │          \u001b[38;5;34m0\u001b[0m │ lstm_1[\u001b[38;5;34m0\u001b[0m][\u001b[38;5;34m0\u001b[0m]      │\n",
              "├─────────────────────┼───────────────────┼────────────┼───────────────────┤\n",
              "│ dense (\u001b[38;5;33mDense\u001b[0m)       │ (\u001b[38;5;45mNone\u001b[0m, \u001b[38;5;34m4\u001b[0m)         │        \u001b[38;5;34m260\u001b[0m │ dropout[\u001b[38;5;34m0\u001b[0m][\u001b[38;5;34m0\u001b[0m]     │\n",
              "└─────────────────────┴───────────────────┴────────────┴───────────────────┘\n"
            ]
          },
          "metadata": {},
          "output_type": "display_data"
        },
        {
          "data": {
            "text/html": [
              "<pre style=\"white-space:pre;overflow-x:auto;line-height:normal;font-family:Menlo,'DejaVu Sans Mono',consolas,'Courier New',monospace\"><span style=\"font-weight: bold\"> Total params: </span><span style=\"color: #00af00; text-decoration-color: #00af00\">903,000</span> (3.44 MB)\n",
              "</pre>\n"
            ],
            "text/plain": [
              "\u001b[1m Total params: \u001b[0m\u001b[38;5;34m903,000\u001b[0m (3.44 MB)\n"
            ]
          },
          "metadata": {},
          "output_type": "display_data"
        },
        {
          "data": {
            "text/html": [
              "<pre style=\"white-space:pre;overflow-x:auto;line-height:normal;font-family:Menlo,'DejaVu Sans Mono',consolas,'Courier New',monospace\"><span style=\"font-weight: bold\"> Trainable params: </span><span style=\"color: #00af00; text-decoration-color: #00af00\">903,000</span> (3.44 MB)\n",
              "</pre>\n"
            ],
            "text/plain": [
              "\u001b[1m Trainable params: \u001b[0m\u001b[38;5;34m903,000\u001b[0m (3.44 MB)\n"
            ]
          },
          "metadata": {},
          "output_type": "display_data"
        },
        {
          "data": {
            "text/html": [
              "<pre style=\"white-space:pre;overflow-x:auto;line-height:normal;font-family:Menlo,'DejaVu Sans Mono',consolas,'Courier New',monospace\"><span style=\"font-weight: bold\"> Non-trainable params: </span><span style=\"color: #00af00; text-decoration-color: #00af00\">0</span> (0.00 B)\n",
              "</pre>\n"
            ],
            "text/plain": [
              "\u001b[1m Non-trainable params: \u001b[0m\u001b[38;5;34m0\u001b[0m (0.00 B)\n"
            ]
          },
          "metadata": {},
          "output_type": "display_data"
        }
      ],
      "source": [
        "model.summary()"
      ]
    },
    {
      "cell_type": "code",
      "execution_count": 22,
      "metadata": {},
      "outputs": [
        {
          "name": "stdout",
          "output_type": "stream",
          "text": [
            "Requirement already satisfied: pydot in g:\\projects\\mini_project\\github\\venv\\lib\\site-packages (3.0.1)\n",
            "Requirement already satisfied: pyparsing>=3.0.9 in g:\\projects\\mini_project\\github\\venv\\lib\\site-packages (from pydot) (3.1.4)\n"
          ]
        },
        {
          "name": "stderr",
          "output_type": "stream",
          "text": [
            "WARNING: You are using pip version 21.2.3; however, version 24.2 is available.\n",
            "You should consider upgrading via the 'G:\\PROJECTS\\MINI_PROJECT\\Github\\venv\\Scripts\\python.exe -m pip install --upgrade pip' command.\n"
          ]
        },
        {
          "name": "stdout",
          "output_type": "stream",
          "text": [
            "Requirement already satisfied: graphviz in g:\\projects\\mini_project\\github\\venv\\lib\\site-packages (0.20.3)\n"
          ]
        },
        {
          "name": "stderr",
          "output_type": "stream",
          "text": [
            "WARNING: You are using pip version 21.2.3; however, version 24.2 is available.\n",
            "You should consider upgrading via the 'G:\\PROJECTS\\MINI_PROJECT\\Github\\venv\\Scripts\\python.exe -m pip install --upgrade pip' command.\n"
          ]
        }
      ],
      "source": [
        "!pip install pydot \n",
        "!pip install graphviz"
      ]
    },
    {
      "cell_type": "code",
      "execution_count": 23,
      "metadata": {
        "id": "uXhvbM5ob1lZ",
        "trusted": true
      },
      "outputs": [
        {
          "data": {
            "image/png": "[encoded data removed]",
            "text/plain": [
              "<Figure size 1200x800 with 1 Axes>"
            ]
          },
          "metadata": {},
          "output_type": "display_data"
        }
      ],
      "source": [
        "# plot_model(model, to_file='model_glove_lstm.png', show_shapes=True, show_layer_names=True)\n",
        "\n",
        "import matplotlib.pyplot as plt\n",
        "import matplotlib.patches as patches\n",
        "\n",
        "def plot_model_architecture(model, file_path='model_glove_lstm.png'):\n",
        "    fig, ax = plt.subplots(figsize=(12, 8))\n",
        "    \n",
        "    # Define a simple model architecture (customize as needed)\n",
        "    layers = [\n",
        "        (\"Input Layer\", 0, 5),\n",
        "        (\"Embedding Layer\", 1, 5),\n",
        "        (\"LSTM Layer 1\", 2, 5),\n",
        "        (\"Dropout Layer\", 3, 5),\n",
        "        (\"LSTM Layer 2\", 4, 5),\n",
        "        (\"Dense Layer\", 5, 5),\n",
        "    ]\n",
        "    \n",
        "    # Plot the layers\n",
        "    for layer_name, x, y in layers:\n",
        "        rect = patches.FancyBboxPatch((x*2, y*2), 1.5, 0.5, boxstyle=\"round,pad=0.1\", edgecolor='black', facecolor='lightblue')\n",
        "        ax.add_patch(rect)\n",
        "        ax.text(x*2 + 0.75, y*2 + 0.25, layer_name, ha='center', va='center', fontsize=12, weight='bold')\n",
        "    \n",
        "    # Draw arrows between layers\n",
        "    for i in range(len(layers) - 1):\n",
        "        x1, y1 = layers[i][1]*2 + 0.75, layers[i][2]*2 + 0.25\n",
        "        x2, y2 = layers[i+1][1]*2 + 0.75, layers[i+1][2]*2 + 0.25\n",
        "        ax.annotate(\"\", xy=(x2, y2), xytext=(x1, y1),\n",
        "                    arrowprops=dict(arrowstyle=\"->\", color='black', lw=2))\n",
        "    \n",
        "    ax.set_xlim(-1, 12)\n",
        "    ax.set_ylim(-1, 12)\n",
        "    ax.axis('off')\n",
        "    plt.title('Model Architecture')\n",
        "    plt.savefig(file_path, dpi=300)\n",
        "    plt.show()\n",
        "\n",
        "# Assuming 'model' is your Keras model\n",
        "plot_model_architecture(model)\n"
      ]
    },
    {
      "cell_type": "code",
      "execution_count": 24,
      "metadata": {
        "id": "aT0UZnyjb1lZ",
        "trusted": true
      },
      "outputs": [
        {
          "name": "stdout",
          "output_type": "stream",
          "text": [
            "Index(['Headline', 'Body ID', 'Stance', 'articleBody'], dtype='object')\n",
            "                                            Headline  Body ID     Stance  \\\n",
            "0  Report: Amazon to Launch Ad-Supported Streamin...     1071  unrelated   \n",
            "1  That Boko Haram Ceasefire in Nigeria Isn’t A C...       35  unrelated   \n",
            "2  High School Student Rumored to Have Made $72 M...     1024  unrelated   \n",
            "3  Al-Shabaab co-founder confirmed killed by US a...      646  unrelated   \n",
            "4  Confusion swirls, details murky in arrest of I...     2337    discuss   \n",
            "\n",
            "                                         articleBody  stance_cat  \n",
            "0                                                NaN           3  \n",
            "1                                                NaN           3  \n",
            "2  A 10-year-old member of the ISIS terror group ...           3  \n",
            "3  The mystery surrounding the disappearance of 4...           3  \n",
            "4                                                NaN           2  \n"
          ]
        }
      ],
      "source": [
        "# padded_docs_headline_train = padded_docs_headline[:int(len(padded_docs_headline)*0.9),:]\n",
        "# padded_docs_headline_test = padded_docs_headline[int(len(padded_docs_headline)*0.9):,:]\n",
        "\n",
        "# padded_docs_body_train = padded_docs_body[:int(len(padded_docs_body)*0.9),:]\n",
        "# padded_docs_body_test = padded_docs_body[int(len(padded_docs_body)*0.9):,:]\n",
        "\n",
        "# labels = to_categorical(data.loc[:,'stance_cat'])\n",
        "\n",
        "# labels_train = labels[:int(len(labels)*0.9),:]\n",
        "# labels_test = labels[int(len(labels)*0.9):,:]\n",
        "\n",
        "\n",
        "import pandas as pd\n",
        "from keras.utils import to_categorical\n",
        "\n",
        "# Load your data\n",
        "data = pd.read_csv(os.path.join(os.getcwd(), 'data_combined_subset.csv'))\n",
        "\n",
        "# Check column names\n",
        "print(data.columns)\n",
        "\n",
        "# Ensure 'stance_cat' column exists\n",
        "if 'stance_cat' not in data.columns:\n",
        "    data['stance_cat'] = data['Stance'].map({'agree':0, 'disagree':1, 'discuss':2, 'unrelated':3}).astype(int)\n",
        "\n",
        "# Check if column was created correctly\n",
        "print(data.head())\n",
        "\n",
        "# Proceed with your code if 'stance_cat' column is present\n",
        "padded_docs_headline_train = padded_docs_headline[:int(len(padded_docs_headline)*0.9),:]\n",
        "padded_docs_headline_test = padded_docs_headline[int(len(padded_docs_headline)*0.9):,:]\n",
        "\n",
        "padded_docs_body_train = padded_docs_body[:int(len(padded_docs_body)*0.9),:]\n",
        "padded_docs_body_test = padded_docs_body[int(len(padded_docs_body)*0.9):,:]\n",
        "\n",
        "labels = to_categorical(data['stance_cat'])\n",
        "\n",
        "labels_train = labels[:int(len(labels)*0.9),:]\n",
        "labels_test = labels[int(len(labels)*0.9):,:]\n"
      ]
    },
    {
      "cell_type": "markdown",
      "metadata": {
        "id": "ik9aNrvlb1la"
      },
      "source": [
        "## Creating Checkpoints\n",
        "\n",
        "For saving the latest model trained after every epoch"
      ]
    },
    {
      "cell_type": "code",
      "execution_count": 25,
      "metadata": {
        "id": "TJ8BlWZjb1la",
        "trusted": true
      },
      "outputs": [],
      "source": [
        "# MODELS_DIR = os.path.join(\"/home/abhinav/fake_news_challenge/model/glove_lstm\")\n",
        "filepath = os.path.join(os.getcwd(),\"{epoch:02d}-{val_accuracy:.2f}.hdf5.keras\")\n",
        "checkpoint = ModelCheckpoint(filepath, monitor='val_accuracy', verbose=1, save_best_only=True, mode='max')"
      ]
    },
    {
      "cell_type": "markdown",
      "metadata": {
        "id": "irUjIGeyb1la"
      },
      "source": [
        "# Model Training"
      ]
    },
    {
      "cell_type": "code",
      "execution_count": 26,
      "metadata": {
        "id": "UV1YNVhbb1lb",
        "trusted": true
      },
      "outputs": [
        {
          "name": "stdout",
          "output_type": "stream",
          "text": [
            "Epoch 1/40\n",
            "\u001b[1m351/352\u001b[0m \u001b[32m━━━━━━━━━━━━━━━━━━━\u001b[0m\u001b[37m━\u001b[0m \u001b[1m0s\u001b[0m 22ms/step - accuracy: 0.7197 - loss: 0.8836\n",
            "Epoch 1: val_accuracy improved from -inf to 0.72320, saving model to g:\\PROJECTS\\MINI_PROJECT\\Github\\01-0.72.hdf5.keras\n",
            "\u001b[1m352/352\u001b[0m \u001b[32m━━━━━━━━━━━━━━━━━━━━\u001b[0m\u001b[37m\u001b[0m \u001b[1m11s\u001b[0m 24ms/step - accuracy: 0.7197 - loss: 0.8833 - val_accuracy: 0.7232 - val_loss: 0.8124\n",
            "Epoch 2/40\n",
            "\u001b[1m350/352\u001b[0m \u001b[32m━━━━━━━━━━━━━━━━━━━\u001b[0m\u001b[37m━\u001b[0m \u001b[1m0s\u001b[0m 22ms/step - accuracy: 0.7283 - loss: 0.7980\n",
            "Epoch 2: val_accuracy improved from 0.72320 to 0.72560, saving model to g:\\PROJECTS\\MINI_PROJECT\\Github\\02-0.73.hdf5.keras\n",
            "\u001b[1m352/352\u001b[0m \u001b[32m━━━━━━━━━━━━━━━━━━━━\u001b[0m\u001b[37m\u001b[0m \u001b[1m8s\u001b[0m 23ms/step - accuracy: 0.7283 - loss: 0.7981 - val_accuracy: 0.7256 - val_loss: 0.7960\n",
            "Epoch 3/40\n",
            "\u001b[1m352/352\u001b[0m \u001b[32m━━━━━━━━━━━━━━━━━━━━\u001b[0m\u001b[37m\u001b[0m \u001b[1m0s\u001b[0m 22ms/step - accuracy: 0.7283 - loss: 0.7925\n",
            "Epoch 3: val_accuracy improved from 0.72560 to 0.72800, saving model to g:\\PROJECTS\\MINI_PROJECT\\Github\\03-0.73.hdf5.keras\n",
            "\u001b[1m352/352\u001b[0m \u001b[32m━━━━━━━━━━━━━━━━━━━━\u001b[0m\u001b[37m\u001b[0m \u001b[1m8s\u001b[0m 23ms/step - accuracy: 0.7283 - loss: 0.7925 - val_accuracy: 0.7280 - val_loss: 0.7962\n",
            "Epoch 4/40\n",
            "\u001b[1m351/352\u001b[0m \u001b[32m━━━━━━━━━━━━━━━━━━━\u001b[0m\u001b[37m━\u001b[0m \u001b[1m0s\u001b[0m 22ms/step - accuracy: 0.7375 - loss: 0.7648\n",
            "Epoch 4: val_accuracy improved from 0.72800 to 0.72880, saving model to g:\\PROJECTS\\MINI_PROJECT\\Github\\04-0.73.hdf5.keras\n",
            "\u001b[1m352/352\u001b[0m \u001b[32m━━━━━━━━━━━━━━━━━━━━\u001b[0m\u001b[37m\u001b[0m \u001b[1m8s\u001b[0m 23ms/step - accuracy: 0.7375 - loss: 0.7649 - val_accuracy: 0.7288 - val_loss: 0.7819\n",
            "Epoch 5/40\n",
            "\u001b[1m352/352\u001b[0m \u001b[32m━━━━━━━━━━━━━━━━━━━━\u001b[0m\u001b[37m\u001b[0m \u001b[1m0s\u001b[0m 22ms/step - accuracy: 0.7398 - loss: 0.7630\n",
            "Epoch 5: val_accuracy improved from 0.72880 to 0.73120, saving model to g:\\PROJECTS\\MINI_PROJECT\\Github\\05-0.73.hdf5.keras\n",
            "\u001b[1m352/352\u001b[0m \u001b[32m━━━━━━━━━━━━━━━━━━━━\u001b[0m\u001b[37m\u001b[0m \u001b[1m8s\u001b[0m 23ms/step - accuracy: 0.7398 - loss: 0.7630 - val_accuracy: 0.7312 - val_loss: 0.7826\n",
            "Epoch 6/40\n",
            "\u001b[1m350/352\u001b[0m \u001b[32m━━━━━━━━━━━━━━━━━━━\u001b[0m\u001b[37m━\u001b[0m \u001b[1m0s\u001b[0m 22ms/step - accuracy: 0.7388 - loss: 0.7621\n",
            "Epoch 6: val_accuracy did not improve from 0.73120\n",
            "\u001b[1m352/352\u001b[0m \u001b[32m━━━━━━━━━━━━━━━━━━━━\u001b[0m\u001b[37m\u001b[0m \u001b[1m8s\u001b[0m 22ms/step - accuracy: 0.7389 - loss: 0.7621 - val_accuracy: 0.7312 - val_loss: 0.7833\n",
            "Epoch 7/40\n",
            "\u001b[1m352/352\u001b[0m \u001b[32m━━━━━━━━━━━━━━━━━━━━\u001b[0m\u001b[37m\u001b[0m \u001b[1m0s\u001b[0m 22ms/step - accuracy: 0.7481 - loss: 0.7359\n",
            "Epoch 7: val_accuracy did not improve from 0.73120\n",
            "\u001b[1m352/352\u001b[0m \u001b[32m━━━━━━━━━━━━━━━━━━━━\u001b[0m\u001b[37m\u001b[0m \u001b[1m8s\u001b[0m 22ms/step - accuracy: 0.7481 - loss: 0.7359 - val_accuracy: 0.7256 - val_loss: 0.7904\n",
            "Epoch 8/40\n",
            "\u001b[1m350/352\u001b[0m \u001b[32m━━━━━━━━━━━━━━━━━━━\u001b[0m\u001b[37m━\u001b[0m \u001b[1m0s\u001b[0m 26ms/step - accuracy: 0.7427 - loss: 0.7502\n",
            "Epoch 8: val_accuracy did not improve from 0.73120\n",
            "\u001b[1m352/352\u001b[0m \u001b[32m━━━━━━━━━━━━━━━━━━━━\u001b[0m\u001b[37m\u001b[0m \u001b[1m10s\u001b[0m 27ms/step - accuracy: 0.7427 - loss: 0.7501 - val_accuracy: 0.7312 - val_loss: 0.7773\n",
            "Epoch 9/40\n",
            "\u001b[1m351/352\u001b[0m \u001b[32m━━━━━━━━━━━━━━━━━━━\u001b[0m\u001b[37m━\u001b[0m \u001b[1m0s\u001b[0m 22ms/step - accuracy: 0.7447 - loss: 0.7339\n",
            "Epoch 9: val_accuracy improved from 0.73120 to 0.73280, saving model to g:\\PROJECTS\\MINI_PROJECT\\Github\\09-0.73.hdf5.keras\n",
            "\u001b[1m352/352\u001b[0m \u001b[32m━━━━━━━━━━━━━━━━━━━━\u001b[0m\u001b[37m\u001b[0m \u001b[1m8s\u001b[0m 23ms/step - accuracy: 0.7447 - loss: 0.7339 - val_accuracy: 0.7328 - val_loss: 0.7802\n",
            "Epoch 10/40\n",
            "\u001b[1m351/352\u001b[0m \u001b[32m━━━━━━━━━━━━━━━━━━━\u001b[0m\u001b[37m━\u001b[0m \u001b[1m0s\u001b[0m 23ms/step - accuracy: 0.7463 - loss: 0.7366\n",
            "Epoch 10: val_accuracy improved from 0.73280 to 0.73600, saving model to g:\\PROJECTS\\MINI_PROJECT\\Github\\10-0.74.hdf5.keras\n",
            "\u001b[1m352/352\u001b[0m \u001b[32m━━━━━━━━━━━━━━━━━━━━\u001b[0m\u001b[37m\u001b[0m \u001b[1m8s\u001b[0m 24ms/step - accuracy: 0.7463 - loss: 0.7366 - val_accuracy: 0.7360 - val_loss: 0.7771\n",
            "Epoch 11/40\n",
            "\u001b[1m352/352\u001b[0m \u001b[32m━━━━━━━━━━━━━━━━━━━━\u001b[0m\u001b[37m\u001b[0m \u001b[1m0s\u001b[0m 22ms/step - accuracy: 0.7572 - loss: 0.7106\n",
            "Epoch 11: val_accuracy did not improve from 0.73600\n",
            "\u001b[1m352/352\u001b[0m \u001b[32m━━━━━━━━━━━━━━━━━━━━\u001b[0m\u001b[37m\u001b[0m \u001b[1m8s\u001b[0m 23ms/step - accuracy: 0.7572 - loss: 0.7107 - val_accuracy: 0.7328 - val_loss: 0.7729\n",
            "Epoch 12/40\n",
            "\u001b[1m351/352\u001b[0m \u001b[32m━━━━━━━━━━━━━━━━━━━\u001b[0m\u001b[37m━\u001b[0m \u001b[1m0s\u001b[0m 22ms/step - accuracy: 0.7599 - loss: 0.7027\n",
            "Epoch 12: val_accuracy did not improve from 0.73600\n",
            "\u001b[1m352/352\u001b[0m \u001b[32m━━━━━━━━━━━━━━━━━━━━\u001b[0m\u001b[37m\u001b[0m \u001b[1m8s\u001b[0m 23ms/step - accuracy: 0.7599 - loss: 0.7027 - val_accuracy: 0.7352 - val_loss: 0.7794\n",
            "Epoch 13/40\n",
            "\u001b[1m351/352\u001b[0m \u001b[32m━━━━━━━━━━━━━━━━━━━\u001b[0m\u001b[37m━\u001b[0m \u001b[1m0s\u001b[0m 22ms/step - accuracy: 0.7554 - loss: 0.7118\n",
            "Epoch 13: val_accuracy improved from 0.73600 to 0.73840, saving model to g:\\PROJECTS\\MINI_PROJECT\\Github\\13-0.74.hdf5.keras\n",
            "\u001b[1m352/352\u001b[0m \u001b[32m━━━━━━━━━━━━━━━━━━━━\u001b[0m\u001b[37m\u001b[0m \u001b[1m8s\u001b[0m 23ms/step - accuracy: 0.7554 - loss: 0.7118 - val_accuracy: 0.7384 - val_loss: 0.7791\n",
            "Epoch 14/40\n",
            "\u001b[1m352/352\u001b[0m \u001b[32m━━━━━━━━━━━━━━━━━━━━\u001b[0m\u001b[37m\u001b[0m \u001b[1m0s\u001b[0m 23ms/step - accuracy: 0.7623 - loss: 0.6960\n",
            "Epoch 14: val_accuracy did not improve from 0.73840\n",
            "\u001b[1m352/352\u001b[0m \u001b[32m━━━━━━━━━━━━━━━━━━━━\u001b[0m\u001b[37m\u001b[0m \u001b[1m8s\u001b[0m 23ms/step - accuracy: 0.7623 - loss: 0.6960 - val_accuracy: 0.7344 - val_loss: 0.7855\n",
            "Epoch 15/40\n",
            "\u001b[1m352/352\u001b[0m \u001b[32m━━━━━━━━━━━━━━━━━━━━\u001b[0m\u001b[37m\u001b[0m \u001b[1m0s\u001b[0m 22ms/step - accuracy: 0.7525 - loss: 0.7157\n",
            "Epoch 15: val_accuracy did not improve from 0.73840\n",
            "\u001b[1m352/352\u001b[0m \u001b[32m━━━━━━━━━━━━━━━━━━━━\u001b[0m\u001b[37m\u001b[0m \u001b[1m8s\u001b[0m 23ms/step - accuracy: 0.7525 - loss: 0.7157 - val_accuracy: 0.7328 - val_loss: 0.7955\n",
            "Epoch 16/40\n",
            "\u001b[1m351/352\u001b[0m \u001b[32m━━━━━━━━━━━━━━━━━━━\u001b[0m\u001b[37m━\u001b[0m \u001b[1m0s\u001b[0m 22ms/step - accuracy: 0.7682 - loss: 0.6777\n",
            "Epoch 16: val_accuracy did not improve from 0.73840\n",
            "\u001b[1m352/352\u001b[0m \u001b[32m━━━━━━━━━━━━━━━━━━━━\u001b[0m\u001b[37m\u001b[0m \u001b[1m8s\u001b[0m 23ms/step - accuracy: 0.7681 - loss: 0.6777 - val_accuracy: 0.7296 - val_loss: 0.7882\n",
            "Epoch 17/40\n",
            "\u001b[1m350/352\u001b[0m \u001b[32m━━━━━━━━━━━━━━━━━━━\u001b[0m\u001b[37m━\u001b[0m \u001b[1m0s\u001b[0m 23ms/step - accuracy: 0.7680 - loss: 0.6784\n",
            "Epoch 17: val_accuracy did not improve from 0.73840\n",
            "\u001b[1m352/352\u001b[0m \u001b[32m━━━━━━━━━━━━━━━━━━━━\u001b[0m\u001b[37m\u001b[0m \u001b[1m8s\u001b[0m 24ms/step - accuracy: 0.7680 - loss: 0.6784 - val_accuracy: 0.7344 - val_loss: 0.8014\n",
            "Epoch 18/40\n",
            "\u001b[1m350/352\u001b[0m \u001b[32m━━━━━━━━━━━━━━━━━━━\u001b[0m\u001b[37m━\u001b[0m \u001b[1m0s\u001b[0m 21ms/step - accuracy: 0.7706 - loss: 0.6720\n",
            "Epoch 18: val_accuracy did not improve from 0.73840\n",
            "\u001b[1m352/352\u001b[0m \u001b[32m━━━━━━━━━━━━━━━━━━━━\u001b[0m\u001b[37m\u001b[0m \u001b[1m8s\u001b[0m 22ms/step - accuracy: 0.7706 - loss: 0.6721 - val_accuracy: 0.7336 - val_loss: 0.8077\n",
            "Epoch 19/40\n",
            "\u001b[1m352/352\u001b[0m \u001b[32m━━━━━━━━━━━━━━━━━━━━\u001b[0m\u001b[37m\u001b[0m \u001b[1m0s\u001b[0m 22ms/step - accuracy: 0.7753 - loss: 0.6599\n",
            "Epoch 19: val_accuracy did not improve from 0.73840\n",
            "\u001b[1m352/352\u001b[0m \u001b[32m━━━━━━━━━━━━━━━━━━━━\u001b[0m\u001b[37m\u001b[0m \u001b[1m8s\u001b[0m 22ms/step - accuracy: 0.7753 - loss: 0.6600 - val_accuracy: 0.7336 - val_loss: 0.8021\n",
            "Epoch 20/40\n",
            "\u001b[1m350/352\u001b[0m \u001b[32m━━━━━━━━━━━━━━━━━━━\u001b[0m\u001b[37m━\u001b[0m \u001b[1m0s\u001b[0m 22ms/step - accuracy: 0.7734 - loss: 0.6621\n",
            "Epoch 20: val_accuracy improved from 0.73840 to 0.74080, saving model to g:\\PROJECTS\\MINI_PROJECT\\Github\\20-0.74.hdf5.keras\n",
            "\u001b[1m352/352\u001b[0m \u001b[32m━━━━━━━━━━━━━━━━━━━━\u001b[0m\u001b[37m\u001b[0m \u001b[1m8s\u001b[0m 23ms/step - accuracy: 0.7733 - loss: 0.6621 - val_accuracy: 0.7408 - val_loss: 0.7987\n",
            "Epoch 21/40\n",
            "\u001b[1m352/352\u001b[0m \u001b[32m━━━━━━━━━━━━━━━━━━━━\u001b[0m\u001b[37m\u001b[0m \u001b[1m0s\u001b[0m 22ms/step - accuracy: 0.7793 - loss: 0.6558\n",
            "Epoch 21: val_accuracy did not improve from 0.74080\n",
            "\u001b[1m352/352\u001b[0m \u001b[32m━━━━━━━━━━━━━━━━━━━━\u001b[0m\u001b[37m\u001b[0m \u001b[1m8s\u001b[0m 23ms/step - accuracy: 0.7793 - loss: 0.6558 - val_accuracy: 0.7312 - val_loss: 0.8366\n",
            "Epoch 22/40\n",
            "\u001b[1m350/352\u001b[0m \u001b[32m━━━━━━━━━━━━━━━━━━━\u001b[0m\u001b[37m━\u001b[0m \u001b[1m0s\u001b[0m 24ms/step - accuracy: 0.7806 - loss: 0.6510\n",
            "Epoch 22: val_accuracy did not improve from 0.74080\n",
            "\u001b[1m352/352\u001b[0m \u001b[32m━━━━━━━━━━━━━━━━━━━━\u001b[0m\u001b[37m\u001b[0m \u001b[1m9s\u001b[0m 25ms/step - accuracy: 0.7806 - loss: 0.6511 - val_accuracy: 0.7280 - val_loss: 0.8341\n",
            "Epoch 23/40\n",
            "\u001b[1m351/352\u001b[0m \u001b[32m━━━━━━━━━━━━━━━━━━━\u001b[0m\u001b[37m━\u001b[0m \u001b[1m0s\u001b[0m 23ms/step - accuracy: 0.7790 - loss: 0.6514\n",
            "Epoch 23: val_accuracy did not improve from 0.74080\n",
            "\u001b[1m352/352\u001b[0m \u001b[32m━━━━━━━━━━━━━━━━━━━━\u001b[0m\u001b[37m\u001b[0m \u001b[1m8s\u001b[0m 24ms/step - accuracy: 0.7790 - loss: 0.6515 - val_accuracy: 0.7272 - val_loss: 0.8414\n",
            "Epoch 24/40\n",
            "\u001b[1m350/352\u001b[0m \u001b[32m━━━━━━━━━━━━━━━━━━━\u001b[0m\u001b[37m━\u001b[0m \u001b[1m0s\u001b[0m 21ms/step - accuracy: 0.7722 - loss: 0.6648\n",
            "Epoch 24: val_accuracy did not improve from 0.74080\n",
            "\u001b[1m352/352\u001b[0m \u001b[32m━━━━━━━━━━━━━━━━━━━━\u001b[0m\u001b[37m\u001b[0m \u001b[1m8s\u001b[0m 22ms/step - accuracy: 0.7722 - loss: 0.6647 - val_accuracy: 0.7376 - val_loss: 0.8331\n",
            "Epoch 25/40\n",
            "\u001b[1m350/352\u001b[0m \u001b[32m━━━━━━━━━━━━━━━━━━━\u001b[0m\u001b[37m━\u001b[0m \u001b[1m0s\u001b[0m 21ms/step - accuracy: 0.7760 - loss: 0.6568\n",
            "Epoch 25: val_accuracy did not improve from 0.74080\n",
            "\u001b[1m352/352\u001b[0m \u001b[32m━━━━━━━━━━━━━━━━━━━━\u001b[0m\u001b[37m\u001b[0m \u001b[1m8s\u001b[0m 22ms/step - accuracy: 0.7760 - loss: 0.6567 - val_accuracy: 0.7312 - val_loss: 0.8435\n",
            "Epoch 26/40\n",
            "\u001b[1m352/352\u001b[0m \u001b[32m━━━━━━━━━━━━━━━━━━━━\u001b[0m\u001b[37m\u001b[0m \u001b[1m0s\u001b[0m 22ms/step - accuracy: 0.7707 - loss: 0.6626\n",
            "Epoch 26: val_accuracy did not improve from 0.74080\n",
            "\u001b[1m352/352\u001b[0m \u001b[32m━━━━━━━━━━━━━━━━━━━━\u001b[0m\u001b[37m\u001b[0m \u001b[1m8s\u001b[0m 22ms/step - accuracy: 0.7708 - loss: 0.6626 - val_accuracy: 0.7256 - val_loss: 0.8535\n",
            "Epoch 27/40\n",
            "\u001b[1m350/352\u001b[0m \u001b[32m━━━━━━━━━━━━━━━━━━━\u001b[0m\u001b[37m━\u001b[0m \u001b[1m0s\u001b[0m 23ms/step - accuracy: 0.7773 - loss: 0.6573\n",
            "Epoch 27: val_accuracy did not improve from 0.74080\n",
            "\u001b[1m352/352\u001b[0m \u001b[32m━━━━━━━━━━━━━━━━━━━━\u001b[0m\u001b[37m\u001b[0m \u001b[1m8s\u001b[0m 24ms/step - accuracy: 0.7773 - loss: 0.6573 - val_accuracy: 0.7288 - val_loss: 0.8491\n",
            "Epoch 28/40\n",
            "\u001b[1m350/352\u001b[0m \u001b[32m━━━━━━━━━━━━━━━━━━━\u001b[0m\u001b[37m━\u001b[0m \u001b[1m0s\u001b[0m 22ms/step - accuracy: 0.7828 - loss: 0.6382\n",
            "Epoch 28: val_accuracy did not improve from 0.74080\n",
            "\u001b[1m352/352\u001b[0m \u001b[32m━━━━━━━━━━━━━━━━━━━━\u001b[0m\u001b[37m\u001b[0m \u001b[1m8s\u001b[0m 22ms/step - accuracy: 0.7827 - loss: 0.6383 - val_accuracy: 0.7376 - val_loss: 0.8262\n",
            "Epoch 29/40\n",
            "\u001b[1m350/352\u001b[0m \u001b[32m━━━━━━━━━━━━━━━━━━━\u001b[0m\u001b[37m━\u001b[0m \u001b[1m0s\u001b[0m 24ms/step - accuracy: 0.7769 - loss: 0.6551\n",
            "Epoch 29: val_accuracy did not improve from 0.74080\n",
            "\u001b[1m352/352\u001b[0m \u001b[32m━━━━━━━━━━━━━━━━━━━━\u001b[0m\u001b[37m\u001b[0m \u001b[1m9s\u001b[0m 25ms/step - accuracy: 0.7769 - loss: 0.6550 - val_accuracy: 0.7280 - val_loss: 0.8614\n",
            "Epoch 30/40\n",
            "\u001b[1m352/352\u001b[0m \u001b[32m━━━━━━━━━━━━━━━━━━━━\u001b[0m\u001b[37m\u001b[0m \u001b[1m0s\u001b[0m 23ms/step - accuracy: 0.7733 - loss: 0.6600\n",
            "Epoch 30: val_accuracy did not improve from 0.74080\n",
            "\u001b[1m352/352\u001b[0m \u001b[32m━━━━━━━━━━━━━━━━━━━━\u001b[0m\u001b[37m\u001b[0m \u001b[1m8s\u001b[0m 24ms/step - accuracy: 0.7733 - loss: 0.6600 - val_accuracy: 0.7352 - val_loss: 0.8446\n",
            "Epoch 31/40\n",
            "\u001b[1m352/352\u001b[0m \u001b[32m━━━━━━━━━━━━━━━━━━━━\u001b[0m\u001b[37m\u001b[0m \u001b[1m0s\u001b[0m 22ms/step - accuracy: 0.7799 - loss: 0.6410\n",
            "Epoch 31: val_accuracy did not improve from 0.74080\n",
            "\u001b[1m352/352\u001b[0m \u001b[32m━━━━━━━━━━━━━━━━━━━━\u001b[0m\u001b[37m\u001b[0m \u001b[1m8s\u001b[0m 23ms/step - accuracy: 0.7799 - loss: 0.6410 - val_accuracy: 0.7376 - val_loss: 0.8513\n",
            "Epoch 32/40\n",
            "\u001b[1m350/352\u001b[0m \u001b[32m━━━━━━━━━━━━━━━━━━━\u001b[0m\u001b[37m━\u001b[0m \u001b[1m0s\u001b[0m 22ms/step - accuracy: 0.7824 - loss: 0.6431\n",
            "Epoch 32: val_accuracy did not improve from 0.74080\n",
            "\u001b[1m352/352\u001b[0m \u001b[32m━━━━━━━━━━━━━━━━━━━━\u001b[0m\u001b[37m\u001b[0m \u001b[1m8s\u001b[0m 22ms/step - accuracy: 0.7824 - loss: 0.6431 - val_accuracy: 0.7264 - val_loss: 0.8572\n",
            "Epoch 33/40\n",
            "\u001b[1m351/352\u001b[0m \u001b[32m━━━━━━━━━━━━━━━━━━━\u001b[0m\u001b[37m━\u001b[0m \u001b[1m0s\u001b[0m 23ms/step - accuracy: 0.7814 - loss: 0.6417\n",
            "Epoch 33: val_accuracy did not improve from 0.74080\n",
            "\u001b[1m352/352\u001b[0m \u001b[32m━━━━━━━━━━━━━━━━━━━━\u001b[0m\u001b[37m\u001b[0m \u001b[1m9s\u001b[0m 24ms/step - accuracy: 0.7813 - loss: 0.6417 - val_accuracy: 0.7280 - val_loss: 0.8680\n",
            "Epoch 34/40\n",
            "\u001b[1m350/352\u001b[0m \u001b[32m━━━━━━━━━━━━━━━━━━━\u001b[0m\u001b[37m━\u001b[0m \u001b[1m0s\u001b[0m 23ms/step - accuracy: 0.7801 - loss: 0.6407\n",
            "Epoch 34: val_accuracy did not improve from 0.74080\n",
            "\u001b[1m352/352\u001b[0m \u001b[32m━━━━━━━━━━━━━━━━━━━━\u001b[0m\u001b[37m\u001b[0m \u001b[1m8s\u001b[0m 24ms/step - accuracy: 0.7801 - loss: 0.6407 - val_accuracy: 0.7280 - val_loss: 0.8772\n",
            "Epoch 35/40\n",
            "\u001b[1m352/352\u001b[0m \u001b[32m━━━━━━━━━━━━━━━━━━━━\u001b[0m\u001b[37m\u001b[0m \u001b[1m0s\u001b[0m 22ms/step - accuracy: 0.7762 - loss: 0.6473\n",
            "Epoch 35: val_accuracy did not improve from 0.74080\n",
            "\u001b[1m352/352\u001b[0m \u001b[32m━━━━━━━━━━━━━━━━━━━━\u001b[0m\u001b[37m\u001b[0m \u001b[1m8s\u001b[0m 23ms/step - accuracy: 0.7762 - loss: 0.6473 - val_accuracy: 0.7344 - val_loss: 0.8566\n",
            "Epoch 36/40\n",
            "\u001b[1m350/352\u001b[0m \u001b[32m━━━━━━━━━━━━━━━━━━━\u001b[0m\u001b[37m━\u001b[0m \u001b[1m0s\u001b[0m 23ms/step - accuracy: 0.7765 - loss: 0.6545\n",
            "Epoch 36: val_accuracy did not improve from 0.74080\n",
            "\u001b[1m352/352\u001b[0m \u001b[32m━━━━━━━━━━━━━━━━━━━━\u001b[0m\u001b[37m\u001b[0m \u001b[1m8s\u001b[0m 24ms/step - accuracy: 0.7765 - loss: 0.6544 - val_accuracy: 0.7312 - val_loss: 0.8754\n",
            "Epoch 37/40\n",
            "\u001b[1m350/352\u001b[0m \u001b[32m━━━━━━━━━━━━━━━━━━━\u001b[0m\u001b[37m━\u001b[0m \u001b[1m0s\u001b[0m 22ms/step - accuracy: 0.7847 - loss: 0.6407\n",
            "Epoch 37: val_accuracy did not improve from 0.74080\n",
            "\u001b[1m352/352\u001b[0m \u001b[32m━━━━━━━━━━━━━━━━━━━━\u001b[0m\u001b[37m\u001b[0m \u001b[1m8s\u001b[0m 23ms/step - accuracy: 0.7847 - loss: 0.6407 - val_accuracy: 0.7312 - val_loss: 0.8716\n",
            "Epoch 38/40\n",
            "\u001b[1m351/352\u001b[0m \u001b[32m━━━━━━━━━━━━━━━━━━━\u001b[0m\u001b[37m━\u001b[0m \u001b[1m0s\u001b[0m 22ms/step - accuracy: 0.7851 - loss: 0.6332\n",
            "Epoch 38: val_accuracy did not improve from 0.74080\n",
            "\u001b[1m352/352\u001b[0m \u001b[32m━━━━━━━━━━━━━━━━━━━━\u001b[0m\u001b[37m\u001b[0m \u001b[1m8s\u001b[0m 23ms/step - accuracy: 0.7851 - loss: 0.6333 - val_accuracy: 0.7344 - val_loss: 0.8767\n",
            "Epoch 39/40\n",
            "\u001b[1m350/352\u001b[0m \u001b[32m━━━━━━━━━━━━━━━━━━━\u001b[0m\u001b[37m━\u001b[0m \u001b[1m0s\u001b[0m 24ms/step - accuracy: 0.7841 - loss: 0.6396\n",
            "Epoch 39: val_accuracy did not improve from 0.74080\n",
            "\u001b[1m352/352\u001b[0m \u001b[32m━━━━━━━━━━━━━━━━━━━━\u001b[0m\u001b[37m\u001b[0m \u001b[1m9s\u001b[0m 25ms/step - accuracy: 0.7841 - loss: 0.6397 - val_accuracy: 0.7200 - val_loss: 0.9218\n",
            "Epoch 40/40\n",
            "\u001b[1m350/352\u001b[0m \u001b[32m━━━━━━━━━━━━━━━━━━━\u001b[0m\u001b[37m━\u001b[0m \u001b[1m0s\u001b[0m 23ms/step - accuracy: 0.7841 - loss: 0.6385\n",
            "Epoch 40: val_accuracy did not improve from 0.74080\n",
            "\u001b[1m352/352\u001b[0m \u001b[32m━━━━━━━━━━━━━━━━━━━━\u001b[0m\u001b[37m\u001b[0m \u001b[1m8s\u001b[0m 24ms/step - accuracy: 0.7841 - loss: 0.6385 - val_accuracy: 0.7352 - val_loss: 0.8688\n"
          ]
        }
      ],
      "source": [
        "model_history = model.fit([padded_docs_headline_train,padded_docs_body_train],labels_train,epochs=40,shuffle=True,verbose=1,\n",
        "                          validation_data=([padded_docs_headline_test,padded_docs_body_test],labels_test),\n",
        "                                          callbacks=[checkpoint])"
      ]
    },
    {
      "cell_type": "markdown",
      "metadata": {
        "id": "r9r2n3xfb1lc"
      },
      "source": [
        "## Model Training History"
      ]
    },
    {
      "cell_type": "code",
      "execution_count": 27,
      "metadata": {
        "id": "DhsvCT19b1lc",
        "trusted": true
      },
      "outputs": [
        {
          "data": {
            "image/png": "[encoded data removed]",
            "text/plain": [
              "<Figure size 1200x1200 with 2 Axes>"
            ]
          },
          "metadata": {},
          "output_type": "display_data"
        }
      ],
      "source": [
        "fig, (ax1, ax2) = plt.subplots(2, 1, figsize=(12, 12))\n",
        "ax1.plot(model_history.history['loss'], color='b', label=\"Training loss\")\n",
        "ax1.plot(model_history.history['val_loss'], color='r', label=\"validation loss\")\n",
        "ax1.set_xticks(np.arange(1, 40, 1))\n",
        "ax1.set_yticks(np.arange(0, 1, 0.1))\n",
        "\n",
        "ax2.plot(model_history.history['accuracy'], color='b', label=\"Training accuracy\")\n",
        "ax2.plot(model_history.history['val_accuracy'], color='r',label=\"Validation accuracy\")\n",
        "ax2.set_xticks(np.arange(1, 40, 1))\n",
        "\n",
        "legend = plt.legend(loc='best', shadow=True)\n",
        "plt.tight_layout()\n",
        "plt.show()"
      ]
    },
    {
      "cell_type": "code",
      "execution_count": 28,
      "metadata": {},
      "outputs": [],
      "source": [
        "# import keras\n",
        "# from IPython.display import clear_output\n",
        "# from matplotlib import pyplot as plt\n",
        "# class PlotLearning(keras.callbacks.Callback):\n",
        "#     def on_train_begin(self, logs={}):\n",
        "#         self.i = 0\n",
        "#         self.x = []\n",
        "#         self.losses = []\n",
        "#         self.val_losses = []\n",
        "#         self.acc = []\n",
        "#         self.val_acc = []\n",
        "#         self.fig = plt.figure()\n",
        "        \n",
        "#         self.logs = []\n",
        "\n",
        "#     def on_epoch_end(self, epoch, logs={}):\n",
        "        \n",
        "#         self.logs.append(logs)\n",
        "#         self.x.append(self.i)\n",
        "#         self.losses.append(logs.get('loss'))\n",
        "#         self.val_losses.append(logs.get('val_loss'))\n",
        "#         self.acc.append(logs.get('acc'))\n",
        "#         self.val_acc.append(logs.get('val_acc'))\n",
        "#         self.i += 1\n",
        "#         f, (ax1, ax2) = plt.subplots(1, 2, sharex=True)\n",
        "        \n",
        "#         clear_output(wait=True)\n",
        "        \n",
        "#         ax1.set_yscale('log')\n",
        "#         ax1.plot(self.x, self.losses, label=\"loss\")\n",
        "#         ax1.plot(self.x, self.val_losses, label=\"val_loss\")\n",
        "#         ax1.legend()\n",
        "        \n",
        "#         ax2.plot(self.x, self.acc, label=\"accuracy\")\n",
        "#         ax2.plot(self.x, self.val_acc, label=\"validation accuracy\")\n",
        "#         ax2.legend()\n",
        "        \n",
        "#         plt.show();\n",
        "        \n",
        "# plot = PlotLearning()"
      ]
    },
    {
      "cell_type": "code",
      "execution_count": 29,
      "metadata": {},
      "outputs": [],
      "source": [
        "# filepath= './' + \"test.best.hdf5\""
      ]
    },
    {
      "cell_type": "code",
      "execution_count": 30,
      "metadata": {},
      "outputs": [],
      "source": [
        "#  # print(headlines_sequences[4].size)\n",
        "# from tensorflow.keras.utils import to_categorical\n",
        "# from keras.callbacks import ModelCheckpoint\n",
        "\n",
        "# print(bodies_sequences.shape)\n",
        "# print(headlines_sequences.shape)\n",
        "# print(stances)\n",
        "# onehot_stances = to_categorical(stances)\n",
        "# print(onehot_stances)\n",
        "\n",
        "\n",
        "# stances_counts = train_data['Stance'].value_counts();\n",
        "# count_total = stances_counts.sum()\n",
        "# count_unrelated, count_dicuss, count_agree, count_disagree = stances_counts[3], stances_counts[2], stances_counts[0], stances_counts[1]\n",
        "# weight_unrelated = 1/(count_unrelated) * (count_total) / 2.0\n",
        "# weight_discuss = 1/(count_dicuss) * (count_total) / 2.0\n",
        "# weight_agree = 1/(count_agree) * (count_total) / 2.0\n",
        "# weight_disagree = 1/(count_disagree) * (count_total) / 2.0\n",
        "\n",
        "# class_weights = {0: weight_agree, 1: weight_disagree, 2: weight_discuss, 3: weight_unrelated}\n",
        "\n",
        "# checkpoint = ModelCheckpoint(filepath, monitor='val_accuracy', verbose=1, save_best_only=True, mode='max')\n",
        "# callbacks_list = [checkpoint]\n",
        "\n",
        "# model.fit([bodies_sequences, headlines_sequences],\n",
        "#               onehot_stances,batch_size=16,\n",
        "#               epochs=50, callbacks=callbacks_list,\n",
        "#               validation_split=0.05, \n",
        "#               shuffle=True,\n",
        "#               )\n",
        "\n",
        "\n",
        "# model.save('./' + 'model')"
      ]
    },
    {
      "cell_type": "code",
      "execution_count": 31,
      "metadata": {},
      "outputs": [
        {
          "ename": "FileNotFoundError",
          "evalue": "[Errno 2] Unable to synchronously open file (unable to open file: name = './test.best.hdf5', errno = 2, error message = 'No such file or directory', flags = 0, o_flags = 0)",
          "output_type": "error",
          "traceback": [
            "\u001b[1;31m---------------------------------------------------------------------------\u001b[0m",
            "\u001b[1;31mFileNotFoundError\u001b[0m                         Traceback (most recent call last)",
            "Cell \u001b[1;32mIn[31], line 1\u001b[0m\n\u001b[1;32m----> 1\u001b[0m \u001b[43mmodel\u001b[49m\u001b[38;5;241;43m.\u001b[39;49m\u001b[43mload_weights\u001b[49m\u001b[43m(\u001b[49m\u001b[38;5;124;43m'\u001b[39;49m\u001b[38;5;124;43m./\u001b[39;49m\u001b[38;5;124;43m'\u001b[39;49m\u001b[43m \u001b[49m\u001b[38;5;241;43m+\u001b[39;49m\u001b[43m \u001b[49m\u001b[38;5;124;43m\"\u001b[39;49m\u001b[38;5;124;43mtest.best.hdf5\u001b[39;49m\u001b[38;5;124;43m\"\u001b[39;49m\u001b[43m)\u001b[49m\n\u001b[0;32m      3\u001b[0m \u001b[38;5;28;01mfrom\u001b[39;00m \u001b[38;5;21;01mtensorflow\u001b[39;00m\u001b[38;5;21;01m.\u001b[39;00m\u001b[38;5;21;01mkeras\u001b[39;00m\u001b[38;5;21;01m.\u001b[39;00m\u001b[38;5;21;01mutils\u001b[39;00m \u001b[38;5;28;01mimport\u001b[39;00m to_categorical\n\u001b[0;32m      4\u001b[0m test_onehot_stances \u001b[38;5;241m=\u001b[39m to_categorical(test_stances)\n",
            "File \u001b[1;32mg:\\PROJECTS\\MINI_PROJECT\\Github\\venv\\lib\\site-packages\\keras\\src\\utils\\traceback_utils.py:122\u001b[0m, in \u001b[0;36mfilter_traceback.<locals>.error_handler\u001b[1;34m(*args, **kwargs)\u001b[0m\n\u001b[0;32m    119\u001b[0m     filtered_tb \u001b[38;5;241m=\u001b[39m _process_traceback_frames(e\u001b[38;5;241m.\u001b[39m__traceback__)\n\u001b[0;32m    120\u001b[0m     \u001b[38;5;66;03m# To get the full stack trace, call:\u001b[39;00m\n\u001b[0;32m    121\u001b[0m     \u001b[38;5;66;03m# `keras.config.disable_traceback_filtering()`\u001b[39;00m\n\u001b[1;32m--> 122\u001b[0m     \u001b[38;5;28;01mraise\u001b[39;00m e\u001b[38;5;241m.\u001b[39mwith_traceback(filtered_tb) \u001b[38;5;28;01mfrom\u001b[39;00m \u001b[38;5;28;01mNone\u001b[39;00m\n\u001b[0;32m    123\u001b[0m \u001b[38;5;28;01mfinally\u001b[39;00m:\n\u001b[0;32m    124\u001b[0m     \u001b[38;5;28;01mdel\u001b[39;00m filtered_tb\n",
            "File \u001b[1;32mg:\\PROJECTS\\MINI_PROJECT\\Github\\venv\\lib\\site-packages\\h5py\\_hl\\files.py:562\u001b[0m, in \u001b[0;36mFile.__init__\u001b[1;34m(self, name, mode, driver, libver, userblock_size, swmr, rdcc_nslots, rdcc_nbytes, rdcc_w0, track_order, fs_strategy, fs_persist, fs_threshold, fs_page_size, page_buf_size, min_meta_keep, min_raw_keep, locking, alignment_threshold, alignment_interval, meta_block_size, **kwds)\u001b[0m\n\u001b[0;32m    553\u001b[0m     fapl \u001b[38;5;241m=\u001b[39m make_fapl(driver, libver, rdcc_nslots, rdcc_nbytes, rdcc_w0,\n\u001b[0;32m    554\u001b[0m                      locking, page_buf_size, min_meta_keep, min_raw_keep,\n\u001b[0;32m    555\u001b[0m                      alignment_threshold\u001b[38;5;241m=\u001b[39malignment_threshold,\n\u001b[0;32m    556\u001b[0m                      alignment_interval\u001b[38;5;241m=\u001b[39malignment_interval,\n\u001b[0;32m    557\u001b[0m                      meta_block_size\u001b[38;5;241m=\u001b[39mmeta_block_size,\n\u001b[0;32m    558\u001b[0m                      \u001b[38;5;241m*\u001b[39m\u001b[38;5;241m*\u001b[39mkwds)\n\u001b[0;32m    559\u001b[0m     fcpl \u001b[38;5;241m=\u001b[39m make_fcpl(track_order\u001b[38;5;241m=\u001b[39mtrack_order, fs_strategy\u001b[38;5;241m=\u001b[39mfs_strategy,\n\u001b[0;32m    560\u001b[0m                      fs_persist\u001b[38;5;241m=\u001b[39mfs_persist, fs_threshold\u001b[38;5;241m=\u001b[39mfs_threshold,\n\u001b[0;32m    561\u001b[0m                      fs_page_size\u001b[38;5;241m=\u001b[39mfs_page_size)\n\u001b[1;32m--> 562\u001b[0m     fid \u001b[38;5;241m=\u001b[39m \u001b[43mmake_fid\u001b[49m\u001b[43m(\u001b[49m\u001b[43mname\u001b[49m\u001b[43m,\u001b[49m\u001b[43m \u001b[49m\u001b[43mmode\u001b[49m\u001b[43m,\u001b[49m\u001b[43m \u001b[49m\u001b[43muserblock_size\u001b[49m\u001b[43m,\u001b[49m\u001b[43m \u001b[49m\u001b[43mfapl\u001b[49m\u001b[43m,\u001b[49m\u001b[43m \u001b[49m\u001b[43mfcpl\u001b[49m\u001b[43m,\u001b[49m\u001b[43m \u001b[49m\u001b[43mswmr\u001b[49m\u001b[38;5;241;43m=\u001b[39;49m\u001b[43mswmr\u001b[49m\u001b[43m)\u001b[49m\n\u001b[0;32m    564\u001b[0m \u001b[38;5;28;01mif\u001b[39;00m \u001b[38;5;28misinstance\u001b[39m(libver, \u001b[38;5;28mtuple\u001b[39m):\n\u001b[0;32m    565\u001b[0m     \u001b[38;5;28mself\u001b[39m\u001b[38;5;241m.\u001b[39m_libver \u001b[38;5;241m=\u001b[39m libver\n",
            "File \u001b[1;32mg:\\PROJECTS\\MINI_PROJECT\\Github\\venv\\lib\\site-packages\\h5py\\_hl\\files.py:235\u001b[0m, in \u001b[0;36mmake_fid\u001b[1;34m(name, mode, userblock_size, fapl, fcpl, swmr)\u001b[0m\n\u001b[0;32m    233\u001b[0m     \u001b[38;5;28;01mif\u001b[39;00m swmr \u001b[38;5;129;01mand\u001b[39;00m swmr_support:\n\u001b[0;32m    234\u001b[0m         flags \u001b[38;5;241m|\u001b[39m\u001b[38;5;241m=\u001b[39m h5f\u001b[38;5;241m.\u001b[39mACC_SWMR_READ\n\u001b[1;32m--> 235\u001b[0m     fid \u001b[38;5;241m=\u001b[39m \u001b[43mh5f\u001b[49m\u001b[38;5;241;43m.\u001b[39;49m\u001b[43mopen\u001b[49m\u001b[43m(\u001b[49m\u001b[43mname\u001b[49m\u001b[43m,\u001b[49m\u001b[43m \u001b[49m\u001b[43mflags\u001b[49m\u001b[43m,\u001b[49m\u001b[43m \u001b[49m\u001b[43mfapl\u001b[49m\u001b[38;5;241;43m=\u001b[39;49m\u001b[43mfapl\u001b[49m\u001b[43m)\u001b[49m\n\u001b[0;32m    236\u001b[0m \u001b[38;5;28;01melif\u001b[39;00m mode \u001b[38;5;241m==\u001b[39m \u001b[38;5;124m'\u001b[39m\u001b[38;5;124mr+\u001b[39m\u001b[38;5;124m'\u001b[39m:\n\u001b[0;32m    237\u001b[0m     fid \u001b[38;5;241m=\u001b[39m h5f\u001b[38;5;241m.\u001b[39mopen(name, h5f\u001b[38;5;241m.\u001b[39mACC_RDWR, fapl\u001b[38;5;241m=\u001b[39mfapl)\n",
            "File \u001b[1;32mh5py\\\\_objects.pyx:54\u001b[0m, in \u001b[0;36mh5py._objects.with_phil.wrapper\u001b[1;34m()\u001b[0m\n",
            "File \u001b[1;32mh5py\\\\_objects.pyx:55\u001b[0m, in \u001b[0;36mh5py._objects.with_phil.wrapper\u001b[1;34m()\u001b[0m\n",
            "File \u001b[1;32mh5py\\\\h5f.pyx:102\u001b[0m, in \u001b[0;36mh5py.h5f.open\u001b[1;34m()\u001b[0m\n",
            "\u001b[1;31mFileNotFoundError\u001b[0m: [Errno 2] Unable to synchronously open file (unable to open file: name = './test.best.hdf5', errno = 2, error message = 'No such file or directory', flags = 0, o_flags = 0)"
          ]
        }
      ],
      "source": [
        "model.load_weights('./' + \"test.best.hdf5\")\n",
        "\n",
        "from tensorflow.keras.utils import to_categorical\n",
        "test_onehot_stances = to_categorical(test_stances)\n",
        "print(len(bodies_sequences))\n",
        "print(len(test_bodies_sequences), test_headlines_sequences[0], test_onehot_stances[0])\n",
        "model.evaluate([test_bodies_sequences, test_headlines_sequences], test_onehot_stances)"
      ]
    },
    {
      "cell_type": "code",
      "execution_count": 32,
      "metadata": {
        "id": "p_okXSmFb1lc"
      },
      "outputs": [],
      "source": [
        "# test_bodies = pd.read_csv(os.path.join(DATASET_PATH, 'test_bodies.csv'))\n",
        "# test_stances = pd.read_csv(os.path.join(DATASET_PATH, 'test_stances_unlabeled.csv'))\n"
      ]
    },
    {
      "cell_type": "code",
      "execution_count": 33,
      "metadata": {},
      "outputs": [
        {
          "ename": "",
          "evalue": "",
          "output_type": "error",
          "traceback": [
            "\u001b[1;31mThe Kernel crashed while executing code in the current cell or a previous cell. \n",
            "\u001b[1;31mPlease review the code in the cell(s) to identify a possible cause of the failure. \n",
            "\u001b[1;31mClick <a href='https://aka.ms/vscodeJupyterKernelCrash'>here</a> for more info. \n",
            "\u001b[1;31mView Jupyter <a href='command:jupyter.viewOutput'>log</a> for further details."
          ]
        }
      ],
      "source": [
        "# test_stances['articleBody'] = None\n",
        "# for i in range(test_stances.shape[0]):\n",
        "#     for j in range(test_bodies.shape[0]):\n",
        "#         if test_bodies.loc[j, 'Body ID'] == test_stances.loc[i, 'Body ID']:\n",
        "#             test_stances.loc[i, 'articleBody'] = test_bodies.loc[j, 'articleBody']\n"
      ]
    },
    {
      "cell_type": "code",
      "execution_count": null,
      "metadata": {},
      "outputs": [],
      "source": [
        "# # Tokenize and pad the headlines and bodies\n",
        "# encoded_docs_headline_test = tokenizer_headline.texts_to_sequences(test_stances['Headline'])\n",
        "# padded_docs_headline_test = pad_sequences(encoded_docs_headline_test, maxlen=16, padding='post')\n",
        "\n",
        "# encoded_docs_body_test = tokenizer_body.texts_to_sequences(test_stances['articleBody'])\n",
        "# padded_docs_body_test = pad_sequences(encoded_docs_body_test, maxlen=48, padding='post')\n"
      ]
    },
    {
      "cell_type": "code",
      "execution_count": null,
      "metadata": {},
      "outputs": [],
      "source": [
        "# predictions = model.predict([padded_docs_headline_test, padded_docs_body_test])\n",
        "# predicted_classes = np.argmax(predictions, axis=1)\n"
      ]
    },
    {
      "cell_type": "code",
      "execution_count": null,
      "metadata": {},
      "outputs": [],
      "source": [
        "# # If you need to save the predictions\n",
        "# test_stances['Predicted_Stance'] = predicted_classes\n",
        "# test_stances.to_csv(os.path.join(os.getcwd(), 'test_predictions.csv'), index=False)\n"
      ]
    }
  ],
  "metadata": {
    "colab": {
      "name": "Glove+LSTM  95.08% Acc",
      "provenance": []
    },
    "kernelspec": {
      "display_name": "Python 3",
      "language": "python",
      "name": "python3"
    },
    "language_info": {
      "codemirror_mode": {
        "name": "ipython",
        "version": 3
      },
      "file_extension": ".py",
      "mimetype": "text/x-python",
      "name": "python",
      "nbconvert_exporter": "python",
      "pygments_lexer": "ipython3",
      "version": "3.10.0"
    }
  },
  "nbformat": 4,
  "nbformat_minor": 0
}
